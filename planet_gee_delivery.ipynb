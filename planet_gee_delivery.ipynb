{
 "cells": [
  {
   "cell_type": "markdown",
   "id": "4bc346e2-8474-48ab-96fe-22aa6ab887f6",
   "metadata": {},
   "source": [
    "# Planet Order and Delivery to GEE"
   ]
  },
  {
   "cell_type": "markdown",
   "id": "f52f1190-2d8d-44db-8c54-4ca92caaa459",
   "metadata": {},
   "source": [
    "*Notebook based on Planetlabs example notebooks for [GEE Delivery](https://github.com/planetlabs/notebooks/blob/master/jupyter-notebooks/gee-integration/gee-integration.ipynb) and the [Data API Introduction for Python](https://github.com/planetlabs/notebooks/blob/master/jupyter-notebooks/data-api-tutorials/planet_data_api_introduction.ipynb)*\n",
    "\n",
    "- *click [here](https://developers.planet.com/docs/apis/data/) for general info on the Planet API*\n",
    "- *click [here](https://developers.planet.com/docs/data/psscene/) for more info on the specifications of the PlanetScope Satellite products and the general order process*"
   ]
  },
  {
   "cell_type": "markdown",
   "id": "38276b1c-d8a4-411e-bb2a-6446c7e0f72d",
   "metadata": {},
   "source": [
    "**Prerequisites:**\n",
    "- Planet's Python SDK 2.0 installed and initialized in your environment. Click [here](https://planet-sdk-for-python-v2.readthedocs.io/en/latest/get-started/quick-start-guide/) for more info and instructions.\n",
    "- An AOI : `AOI`\n",
    "- A GEE project with EE API enabled `braided-rivers-ee`\n",
    "- A pre-existing GEE ImageCollection `planet_collection`\n",
    "- An account with a download quota"
   ]
  },
  {
   "cell_type": "markdown",
   "id": "d1100e88-85c9-4cb5-9900-92fa71e443a7",
   "metadata": {},
   "source": [
    "## Set-up"
   ]
  },
  {
   "cell_type": "code",
   "execution_count": 1,
   "id": "2c0176f3-d5d2-4996-b647-9be87c0e38af",
   "metadata": {},
   "outputs": [],
   "source": [
    "import os\n",
    "import json\n",
    "import requests\n",
    "import geojsonio\n",
    "import time\n",
    "\n",
    "import planet\n",
    "\n",
    "# Helper function to printformatted JSON using the json module\n",
    "def p(data):\n",
    "    print(json.dumps(data, indent=2))\n",
    "\n",
    "# include here your own Planet API Key (find it under \"My Account\"->\"My Settings\"\n",
    "PLANET_API_KEY = 'ef5d387992604ce5ab17734fae36990d'"
   ]
  },
  {
   "cell_type": "code",
   "execution_count": 2,
   "id": "8811f683-3385-426e-9876-be94bf50b8a3",
   "metadata": {},
   "outputs": [
    {
     "name": "stdout",
     "output_type": "stream",
     "text": [
      "<Response [200]>\n"
     ]
    }
   ],
   "source": [
    "# Setup Planet Data API base URL\n",
    "URL = \"https://api.planet.com/data/v1\"\n",
    "\n",
    "# Setup the quick search endpoint url\n",
    "quick_url = \"{}/quick-search\".format(URL)\n",
    "\n",
    "# Setup the session\n",
    "session = requests.Session()\n",
    "\n",
    "# Authenticate\n",
    "session.auth = (PLANET_API_KEY, \"\")\n",
    "\n",
    "# Make a GET request to the Planet Data API - if the response is \"200\" the authetification process was succesful!\n",
    "res = session.get(URL)\n",
    "print(res)"
   ]
  },
  {
   "cell_type": "markdown",
   "id": "08698301-0127-487e-b952-b9d3983d2f6f",
   "metadata": {},
   "source": [
    "### GEE Set-up"
   ]
  },
  {
   "cell_type": "code",
   "execution_count": 3,
   "id": "fd700673-9d3a-4138-9bde-ff0197017643",
   "metadata": {},
   "outputs": [],
   "source": [
    "# Google Earth Engine configuration\n",
    "# Define cloud delivery location:\n",
    "cloud_config = planet.order_request.google_earth_engine(\n",
    "    project='braided-rivers-ee', collection='planet_eygue7_2021')\n",
    "\n",
    "# Order delivery configuration:\n",
    "delivery_config = planet.order_request.delivery(cloud_config=cloud_config)"
   ]
  },
  {
   "cell_type": "code",
   "execution_count": 4,
   "id": "238e6a9b-7baa-46a2-acbd-f9a411df15a7",
   "metadata": {},
   "outputs": [],
   "source": [
    "# Function to create and deliver the order\n",
    "async def create_and_deliver_order(order_request, client):\n",
    "    '''Create and deliver an order.\n",
    "\n",
    "    Parameters:\n",
    "        order_request: An order request\n",
    "        client: An Order client object\n",
    "    '''\n",
    "    with planet.reporting.StateBar(state='creating') as reporter:\n",
    "        # Place an order to the Orders API\n",
    "        order = await client.create_order(order_request)\n",
    "        reporter.update(state='created', order_id=order['id'])\n",
    "        # Wait while the order is being completed\n",
    "        await client.wait(order['id'],\n",
    "                          callback=reporter.update_state,\n",
    "                          max_attempts=0)\n",
    "\n",
    "    # Grab the details of the orders\n",
    "    order_details = await client.get_order(order_id=order['id'])\n",
    "\n",
    "    return order_details"
   ]
  },
  {
   "cell_type": "markdown",
   "id": "cb887c31-5aa8-4068-917c-23b5d55ccb58",
   "metadata": {},
   "source": [
    "## Definition of AOI\n",
    "--> needs to be one feature, so no feature collection is allowed! For that reason, the different features are merged into one single Multipolygon-object.\n",
    "\n",
    "Options: Either delineate features manually via https://geojson.io/ or merge together and make sure that the merged object represents a Feature and not a FeatureCollection"
   ]
  },
  {
   "cell_type": "code",
   "execution_count": 5,
   "id": "89bf3137-1d06-45b9-98b7-147deac4fd6a",
   "metadata": {},
   "outputs": [],
   "source": [
    "# AOI defined as GeoJSON Multipolygon \n",
    "\n",
    "AOI = {\n",
    "        \"type\": \"MultiPolygon\",\n",
    "        \"coordinates\": [\n",
    "          [\n",
    "            [\n",
    "              [\n",
    "                4.91588943510856,\n",
    "                44.211980701554474\n",
    "              ],\n",
    "              [\n",
    "                4.919121104676019,\n",
    "                44.20944095623606\n",
    "              ],\n",
    "              [\n",
    "                4.91782520007276,\n",
    "                44.2090870698574\n",
    "              ],\n",
    "              [\n",
    "                4.917265335801108,\n",
    "                44.20906533965949\n",
    "              ],\n",
    "              [\n",
    "                4.916863957485318,\n",
    "                44.2087893505205\n",
    "              ],\n",
    "              [\n",
    "                4.916624011016038,\n",
    "                44.20867849898615\n",
    "              ],\n",
    "              [\n",
    "                4.916466955475128,\n",
    "                44.2084316942382\n",
    "              ],\n",
    "              [\n",
    "                4.916082174189892,\n",
    "                44.20834173908083\n",
    "              ],\n",
    "              [\n",
    "                4.915159398394788,\n",
    "                44.20746633459301\n",
    "              ],\n",
    "              [\n",
    "                4.914384948290356,\n",
    "                44.20735644015716\n",
    "              ],\n",
    "              [\n",
    "                4.913334225811278,\n",
    "                44.20669377205252\n",
    "              ],\n",
    "              [\n",
    "                4.912064040486246,\n",
    "                44.20530220865854\n",
    "              ],\n",
    "              [\n",
    "                4.910489495082756,\n",
    "                44.204873245532625\n",
    "              ],\n",
    "              [\n",
    "                4.909456778403319,\n",
    "                44.20407029846575\n",
    "              ],\n",
    "              [\n",
    "                4.908477366850409,\n",
    "                44.20372633032983\n",
    "              ],\n",
    "              [\n",
    "                4.907598868042738,\n",
    "                44.203642142349025\n",
    "              ],\n",
    "              [\n",
    "                4.907353478653067,\n",
    "                44.20269830325958\n",
    "              ],\n",
    "              [\n",
    "                4.903788349562426,\n",
    "                44.20378323559256\n",
    "              ],\n",
    "              [\n",
    "                4.905877227401128,\n",
    "                44.205551796476904\n",
    "              ],\n",
    "              [\n",
    "                4.907243672660227,\n",
    "                44.20710428789758\n",
    "              ],\n",
    "              [\n",
    "                4.909992274706736,\n",
    "                44.20942913750944\n",
    "              ],\n",
    "              [\n",
    "                4.911682547034496,\n",
    "                44.20995930400439\n",
    "              ],\n",
    "              [\n",
    "                4.91351085131234,\n",
    "                44.21026575247416\n",
    "              ],\n",
    "              [\n",
    "                4.915128553182849,\n",
    "                44.210926694890105\n",
    "              ],\n",
    "              [\n",
    "                4.91588943510856,\n",
    "                44.211980701554474\n",
    "              ]\n",
    "            ]\n",
    "          ]\n",
    "        ]\n",
    "      }"
   ]
  },
  {
   "cell_type": "markdown",
   "id": "7f571425-50c6-44bc-969c-306b0514fdd9",
   "metadata": {},
   "source": [
    "## Setting up image filter"
   ]
  },
  {
   "cell_type": "code",
   "execution_count": 7,
   "id": "7f885d4a-0405-46d8-ae4f-4b93829193df",
   "metadata": {},
   "outputs": [],
   "source": [
    "# Daterange filter\n",
    "date_filter = {\n",
    "    \"type\": \"DateRangeFilter\", # Type of filter -> Date Range\n",
    "    \"field_name\": \"acquired\", # The field to filter on: \"acquired\" -> Date on which the \"image was taken\"\n",
    "    \"config\": {\n",
    "        \"gte\": \"2021-01-01T00:00:00.000Z\", # \"gte\" -> Greater than or equal to\n",
    "        \"lte\": \"2021-12-31T23:59:59.999Z\" # \"lte\" -> Lower than or equal to\n",
    "    }\n",
    "}\n",
    "\n",
    "# geometry filter on defined AOI\n",
    "geom_filter = {\n",
    "  \"type\": \"GeometryFilter\",\n",
    "  \"field_name\": \"geometry\",\n",
    "  \"config\": AOI\n",
    "}\n",
    "\n",
    "# quality assurance\n",
    "quality_filter = {\n",
    "        \"type\": \"StringInFilter\",\n",
    "        \"field_name\": \"quality_category\",\n",
    "        \"config\": [\"standard\"]\n",
    "      }\n",
    "\n",
    "# cloud pre-filtering\n",
    "cloud_filter = {\n",
    "  \"type\": \"RangeFilter\",\n",
    "  \"field_name\": \"cloud_cover\",\n",
    "  \"config\": {\n",
    "    \"lte\": 0.1\n",
    "  }\n",
    "}\n",
    "\n",
    "# Setup an \"AND\" logical filter\n",
    "and_filter = {\n",
    "    \"type\": \"AndFilter\",\n",
    "    \"config\": [date_filter, geom_filter, quality_filter, cloud_filter]\n",
    "}\n",
    "\n",
    "\n",
    "\n",
    "# Print the logical filter\n",
    "# p(and_filter)"
   ]
  },
  {
   "cell_type": "markdown",
   "id": "00eaf014-441e-4c23-8e0e-572d553c0368",
   "metadata": {},
   "source": [
    "## Requesting image IDs fitting the filter"
   ]
  },
  {
   "cell_type": "code",
   "execution_count": 8,
   "id": "6d11324a-bff7-4d41-ba66-1bae27390510",
   "metadata": {},
   "outputs": [
    {
     "name": "stdout",
     "output_type": "stream",
     "text": [
      "317 ['20211230_102803_88_2254', '20211217_125650_0f02', '20211214_094258_06_242b', '20211213_110617_21_1057', '20211213_110615_71_1057', '20211206_094201_90_242b', '20211203_110755_74_105d', '20211203_110754_24_105d', '20211202_094411_78_2436', '20211130_103211_21_2405', '20211120_093955_41_2423', '20211120_093600_42_1063', '20211114_100746_1005', '20211106_094132_21_241f', '20211106_094051_99_2451', '20211105_094152_87_2455', '20211102_094304_31_220b', '20211102_093814_72_106c', '20211028_094313_66_2429', '20211028_094311_36_2429', '20211027_103220_12_2274', '20211027_102950_20_2416', '20211026_093752_76_106c', '20211026_103000_82_2406', '20211025_103219_69_2407', '20211025_095210_94_2251', '20211025_095213_23_2251', '20211024_093909_84_2420', '20211023_101649_88_105c', '20211023_103036_26_2413', '20211023_094226_98_2448', '20211021_110534_66_105a', '20211018_094345_98_2460', '20211018_094343_68_2460', '20211017_103242_74_2405', '20211014_093946_87_2447', '20211014_093944_57_2447', '20211013_094154_27_2435', '20211011_110347_74_1066', '20211010_103006_36_2419', '20211008_110019_20_1066', '20211001_110148_68_1064', '20211001_110147_18_1064', '20210929_103034_82_2274', '20210929_103032_51_2274', '20210928_103022_86_2405', '20210924_102925_82_2406', '20210923_094001_15_106a', '20210922_094205_19_2206', '20210921_093837_12_1063', '20210921_093835_62_1063', '20210919_102949_58_2424', '20210919_093732_00_1065', '20210918_103145_91_227c', '20210918_103143_61_227c', '20210913_103049_96_240c', '20210913_103047_67_240c', '20210912_094329_47_2456', '20210911_094348_68_2439', '20210911_094346_38_2439', '20210911_100849_1034', '20210911_100848_1034', '20210907_100901_1011', '20210907_100900_1011', '20210906_094314_04_2460', '20210906_094124_25_2423', '20210906_094121_95_2423', '20210904_094530_84_2440', '20210904_094528_36_2440', '20210901_093754_47_1065', '20210901_093752_94_1065', '20210831_103318_89_2419', '20210831_103316_40_2419', '20210831_094512_79_2435', '20210831_094510_49_2435', '20210830_094248_02_2459', '20210830_094245_72_2459', '20210830_094100_57_2430', '20210830_094058_09_2430', '20210828_094946_79_2262', '20210828_094944_49_2262', '20210828_101840_1026', '20210827_095515_44_227e', '20210827_103305_56_240f', '20210827_105919_72_1057', '20210826_103441_11_2413', '20210826_094443_16_2436', '20210826_094440_86_2436', '20210823_093937_32_2450', '20210821_103307_61_2419', '20210821_102921_87_2403', '20210821_094306_93_2455', '20210821_094304_62_2455', '20210819_100906_1025', '20210819_100905_1025', '20210817_110136_75_1058', '20210817_110135_25_1058', '20210816_093814_15_1063', '20210816_100922_1011', '20210816_100923_1011', '20210815_105828_73_105e', '20210815_105827_23_105e', '20210814_103340_06_2403', '20210813_094036_04_2429', '20210813_094034_49_2459', '20210812_103350_33_240c', '20210812_103348_04_240c', '20210811_094324_29_245f', '20210811_094321_99_245f', '20210810_095234_51_2251', '20210810_094716_17_2440', '20210809_100857_1002', '20210809_094339_41_2439', '20210806_095712_62_222f', '20210805_094253_41_2453', '20210801_100802_1039', '20210729_094208_25_2449', '20210729_094205_77_2449', '20210727_094620_86_2430', '20210726_094530_96_2463', '20210725_094625_69_2427', '20210725_094623_21_2427', '20210725_103138_56_240a', '20210725_094439_10_1063', '20210723_094142_86_241e', '20210723_094140_38_241e', '20210723_095704_39_2251', '20210722_095620_56_2233', '20210722_095618_22_2233', '20210721_103101_42_2424', '20210721_100940_100a', '20210720_094709_11_222b', '20210720_094353_34_2449', '20210720_094350_86_2449', '20210719_101221_0f15', '20210718_094309_68_241f', '20210718_094644_35_241d', '20210718_094641_87_241d', '20210717_094640_30_2421', '20210716_105851_70_1058', '20210716_105850_20_1058', '20210712_102928_77_2419', '20210711_103149_04_2307', '20210710_102942_18_227a', '20210710_094058_70_2435', '20210710_094056_22_2435', '20210710_100728_100a', '20210709_094326_60_2429', '20210707_101140_1002', '20210705_094631_07_2444', '20210702_101057_1025', '20210702_101059_1025', '20210702_065330_1050', '20210701_102959_02_2307', '20210701_102956_53_2307', '20210630_094335_53_2463', '20210630_094333_23_2463', '20210626_101142_1002', '20210625_094602_99_222b', '20210619_065558_1053', '20210616_103212_70_2407', '20210616_103210_41_2407', '20210615_095302_97_2264', '20210612_094608_43_2455', '20210614_094207_63_2464', '20210614_094205_32_2464', '20210614_103509_59_2403', '20210614_103507_30_2403', '20210613_094608_97_245f', '20210613_094606_67_245f', '20210613_100923_101f', '20210612_094356_81_2434', '20210610_103343_61_2406', '20210610_103345_91_2406', '20210609_101006_1009', '20210608_095101_30_2262', '20210608_094130_29_2442', '20210605_095222_93_225a', '20210603_094058_47_2460', '20210603_094236_72_106c', '20210530_100912_1039', '20210527_103455_18_227b', '20210526_094607_00_241d', '20210526_094604_70_241d', '20210527_103336_57_240a', '20210525_070108_1050', '20210520_095129_46_2262', '20210520_095127_17_2262', '20210519_103430_25_2413', '20210519_103427_96_2413', '20210519_103124_04_241c', '20210519_094904_0e20', '20210514_103323_54_2406', '20210514_103321_24_2406', '20210513_101314_1014', '20210513_070333_104e', '20210513_070333_1_104e', '20210512_101050_1040', '20210511_094305_63_2442', '20210509_095200_34_2231', '20210509_095158_13_2231', '20210508_094813_29_2444', '20210508_094400_70_2451', '20210507_094500_63_2423', '20210504_095010_99_225a', '20210504_103133_91_2403', '20210504_103131_61_2403', '20210503_094211_82_2212', '20210503_094443_25_106a', '20210503_100910_101f', '20210502_094419_18_2457', '20210502_094416_84_2457', '20210423_094304_99_242d', '20210423_094302_66_242d', '20210423_094522_17_106c', '20210423_094520_14_106c', '20210420_070702_0f3c', '20210420_070701_0f3c', '20210418_103638_36_241c', '20210416_100943_1035', '20210415_101118_1039', '20210414_094834_38_242d', '20210413_095158_84_2280', '20210413_101327_1014', '20210413_101326_1014', '20210413_101130_103b', '20210412_094328_09_2420', '20210408_103722_74_2254', '20210408_103720_39_2254', '20210408_103438_44_241c', '20210403_094600_80_2442', '20210407_103509_80_2401', '20210407_103507_54_2401', '20210407_094900_31_1067', '20210407_094858_29_1067', '20210406_101356_1010', '20210406_100925_1032', '20210406_100926_1032', '20210405_095524_48_2262', '20210405_094520_85_241e', '20210404_103231_35_240a', '20210403_103235_29_2406', '20210402_094832_79_106e', '20210402_101227_1002', '20210402_101226_1002', '20210401_094758_24_2434', '20210401_094535_31_2460', '20210330_103338_71_2403', '20210330_094953_97_106a', '20210328_094902_00_2462', '20210329_094341_15_242b', '20210329_103513_63_2254', '20210329_101149_1014', '20210329_101150_1014', '20210328_095014_80_2441', '20210327_103518_58_225b', '20210324_094313_98_241b', '20210324_101052_103c', '20210324_101051_103c', '20210324_101400_1013', '20210324_094240_10_242a', '20210324_094237_74_242a', '20210320_094309_80_2421', '20210320_103638_43_2412', '20210320_103458_08_2406', '20210320_103455_80_2406', '20210318_103736_71_2401', '20210318_103734_45_2401', '20210318_101302_1032', '20210316_102303_1026', '20210316_095203_0e20', '20210315_094334_89_2449', '20210315_101334_1003', '20210305_094714_07_242a', '20210310_103839_27_2412', '20210310_103836_92_2412', '20210310_105247_70_1057', '20210309_101033_1013', '20210309_101034_1013', '20210308_103456_19_240a', '20210305_100953_1034', '20210228_103953_58_2274', '20210301_094756_74_106c', '20210301_101234_1011', '20210227_101126_0f17', '20210226_103709_12_2254', '20210226_103706_76_2254', '20210226_103945_95_2405', '20210226_103943_68_2405', '20210221_101155_1039', '20210221_101154_1039', '20210221_101356_100a', '20210221_101357_100a', '20210223_103753_31_225b', '20210223_103750_94_225b', '20210220_103625_63_2406', '20210215_101504_1038', '20210213_103429_48_2401', '20210213_103427_22_2401', '20210213_095227_81_2271', '20210211_103514_72_2414', '20210211_103512_45_2414', '20210211_105000_76_1057', '20210210_103605_02_2426', '20210208_101333_1032', '20210203_094922_15_1063', '20210131_101241_1014', '20210131_101240_1014', '20210126_103849_86_240a', '20210124_094526_77_2212', '20210118_094819_45_222b', '20210116_101256_0f17', '20210116_101255_0f17', '20210113_095512_24_1067', '20210113_104931_36_1061', '20210112_101439_0f15', '20210111_104836_03_1058']\n"
     ]
    }
   ],
   "source": [
    "# Specify the sensors/satellites or \"item types\" to include in our results\n",
    "item_types = [\"PSScene\"]\n",
    "\n",
    "# Construct the request.\n",
    "request = {\n",
    "    \"item_types\" : item_types,\n",
    "    \"filter\" : and_filter\n",
    "}\n",
    "\n",
    "# Send the POST request to the API quick search endpoint\n",
    "res = session.post(quick_url, json=request)\n",
    "geojson = res.json()\n",
    "\n",
    "# Initialize the item_ids list to collect all item ids\n",
    "item_ids = []\n",
    "\n",
    "# Collect item IDs from current page\n",
    "features = geojson[\"features\"]\n",
    "current_page_item_ids = [f['id'] for f in features]\n",
    "item_ids.extend(current_page_item_ids)\n",
    "\n",
    "## Looping over several pages to extract >250 items\n",
    "\n",
    "# Start the loop to paginate through all available pages\n",
    "while current_page_item_ids:\n",
    "\n",
    "    # Check if there's a next page, if not, break the loop\n",
    "    next_url = geojson[\"_links\"][\"_next\"] # pr: [\"_next\"]\n",
    "    \n",
    "    # Update the request URL for the next iteration\n",
    "    res_next = session.get(next_url)\n",
    "    geojson = res_next.json()\n",
    "    \n",
    "    # Collect item IDs from next page\n",
    "    features_next = geojson[\"features\"]\n",
    "    current_page_item_ids = [f['id'] for f in features_next]\n",
    "    item_ids.extend(current_page_item_ids)\n",
    "\n",
    "# Print the total number of item IDs collected\n",
    "print(len(item_ids), item_ids)"
   ]
  },
  {
   "cell_type": "markdown",
   "id": "22493521-b4cf-443b-af6f-4ae08d44cef6",
   "metadata": {},
   "source": [
    "### include interval of 5 days for image selection"
   ]
  },
  {
   "cell_type": "code",
   "execution_count": 9,
   "id": "6b0610b4-57c3-4e9f-a4b6-48deba0a41f9",
   "metadata": {},
   "outputs": [
    {
     "name": "stdout",
     "output_type": "stream",
     "text": [
      "113 ['20210111_104836_03_1058', '20210116_101256_0f17', '20210116_101255_0f17', '20210124_094526_77_2212', '20210131_101241_1014', '20210131_101240_1014', '20210208_101333_1032', '20210213_103429_48_2401', '20210213_103427_22_2401', '20210213_095227_81_2271', '20210220_103625_63_2406', '20210226_103709_12_2254', '20210226_103706_76_2254', '20210226_103945_95_2405', '20210226_103943_68_2405', '20210305_094714_07_242a', '20210305_100953_1034', '20210310_103839_27_2412', '20210310_103836_92_2412', '20210310_105247_70_1057', '20210315_094334_89_2449', '20210315_101334_1003', '20210320_094309_80_2421', '20210320_103638_43_2412', '20210320_103458_08_2406', '20210320_103455_80_2406', '20210327_103518_58_225b', '20210401_094758_24_2434', '20210401_094535_31_2460', '20210406_101356_1010', '20210406_100925_1032', '20210406_100926_1032', '20210412_094328_09_2420', '20210418_103638_36_241c', '20210423_094304_99_242d', '20210423_094302_66_242d', '20210423_094522_17_106c', '20210423_094520_14_106c', '20210502_094419_18_2457', '20210502_094416_84_2457', '20210507_094500_63_2423', '20210512_101050_1040', '20210519_103430_25_2413', '20210519_103427_96_2413', '20210519_103124_04_241c', '20210519_094904_0e20', '20210525_070108_1050', '20210530_100912_1039', '20210605_095222_93_225a', '20210610_103343_61_2406', '20210610_103345_91_2406', '20210615_095302_97_2264', '20210625_094602_99_222b', '20210630_094335_53_2463', '20210630_094333_23_2463', '20210705_094631_07_2444', '20210710_102942_18_227a', '20210710_094058_70_2435', '20210710_094056_22_2435', '20210710_100728_100a', '20210716_105851_70_1058', '20210716_105850_20_1058', '20210721_103101_42_2424', '20210721_100940_100a', '20210726_094530_96_2463', '20210801_100802_1039', '20210806_095712_62_222f', '20210811_094324_29_245f', '20210811_094321_99_245f', '20210816_093814_15_1063', '20210816_100922_1011', '20210816_100923_1011', '20210821_103307_61_2419', '20210821_102921_87_2403', '20210821_094306_93_2455', '20210821_094304_62_2455', '20210826_103441_11_2413', '20210826_094443_16_2436', '20210826_094440_86_2436', '20210831_103318_89_2419', '20210831_103316_40_2419', '20210831_094512_79_2435', '20210831_094510_49_2435', '20210906_094314_04_2460', '20210906_094124_25_2423', '20210906_094121_95_2423', '20210911_094348_68_2439', '20210911_094346_38_2439', '20210911_100849_1034', '20210911_100848_1034', '20210918_103145_91_227c', '20210918_103143_61_227c', '20210923_094001_15_106a', '20210928_103022_86_2405', '20211008_110019_20_1066', '20211013_094154_27_2435', '20211018_094345_98_2460', '20211018_094343_68_2460', '20211023_101649_88_105c', '20211023_103036_26_2413', '20211023_094226_98_2448', '20211028_094313_66_2429', '20211028_094311_36_2429', '20211102_094304_31_220b', '20211102_093814_72_106c', '20211114_100746_1005', '20211120_093955_41_2423', '20211120_093600_42_1063', '20211130_103211_21_2405', '20211206_094201_90_242b', '20211213_110617_21_1057', '20211213_110615_71_1057', '20211230_102803_88_2254']\n"
     ]
    }
   ],
   "source": [
    "from datetime import datetime, timedelta\n",
    "\n",
    "image_ids = item_ids\n",
    "\n",
    "def filter_images_by_interval(image_ids, interval_days):\n",
    "    # Convert image IDs to datetime objects and sort\n",
    "    dates_images = sorted([\n",
    "        (datetime.strptime(image_id.split('_')[0], '%Y%m%d'), image_id)\n",
    "        for image_id in image_ids\n",
    "    ], key=lambda x: x[0])\n",
    "\n",
    "    # Initialize variables\n",
    "    filtered_image_ids = []\n",
    "    last_selected_date = None\n",
    "\n",
    "    for date_image in dates_images:\n",
    "        date, image_id = date_image\n",
    "\n",
    "        # If this is the first image or the date is at least interval_days after the last selected date, select it\n",
    "        if last_selected_date is None or date >= last_selected_date + timedelta(days=interval_days):\n",
    "            last_selected_date = date\n",
    "            # Find and include all images for the selected date\n",
    "            filtered_image_ids.extend([\n",
    "                img_id for img_date, img_id in dates_images if img_date == date\n",
    "            ])\n",
    "            \n",
    "    return filtered_image_ids\n",
    "\n",
    "# Call the function\n",
    "filtered_image_ids = filter_images_by_interval(image_ids, interval_days=5)\n",
    "\n",
    "# Print the selected image IDs\n",
    "# len(filtered_image_ids)\n",
    "print(len(filtered_image_ids), filtered_image_ids)"
   ]
  },
  {
   "cell_type": "markdown",
   "id": "f7686d02-935f-429c-bb5b-63fbb38ff5fa",
   "metadata": {},
   "source": [
    "## Building the order request"
   ]
  },
  {
   "cell_type": "code",
   "execution_count": 13,
   "id": "6b60055e-9151-4c5d-844f-b5b9e2c56a4c",
   "metadata": {},
   "outputs": [
    {
     "name": "stdout",
     "output_type": "stream",
     "text": [
      "{'name': '2021_eygue7_order', 'products': [{'item_ids': ['20210111_104836_03_1058', '20210116_101256_0f17', '20210116_101255_0f17', '20210124_094526_77_2212', '20210131_101241_1014', '20210131_101240_1014', '20210208_101333_1032', '20210213_103429_48_2401', '20210213_103427_22_2401', '20210213_095227_81_2271', '20210220_103625_63_2406', '20210226_103709_12_2254', '20210226_103706_76_2254', '20210226_103945_95_2405', '20210226_103943_68_2405', '20210305_094714_07_242a', '20210305_100953_1034', '20210310_103839_27_2412', '20210310_103836_92_2412', '20210310_105247_70_1057', '20210315_094334_89_2449', '20210315_101334_1003', '20210320_094309_80_2421', '20210320_103638_43_2412', '20210320_103458_08_2406', '20210320_103455_80_2406', '20210327_103518_58_225b', '20210401_094758_24_2434', '20210401_094535_31_2460', '20210406_101356_1010', '20210406_100925_1032', '20210406_100926_1032', '20210412_094328_09_2420', '20210418_103638_36_241c', '20210423_094304_99_242d', '20210423_094302_66_242d', '20210423_094522_17_106c', '20210423_094520_14_106c', '20210502_094419_18_2457', '20210502_094416_84_2457', '20210507_094500_63_2423', '20210512_101050_1040', '20210519_103430_25_2413', '20210519_103427_96_2413', '20210519_103124_04_241c', '20210519_094904_0e20', '20210525_070108_1050', '20210530_100912_1039', '20210605_095222_93_225a', '20210610_103343_61_2406', '20210610_103345_91_2406', '20210615_095302_97_2264', '20210625_094602_99_222b', '20210630_094335_53_2463', '20210630_094333_23_2463', '20210705_094631_07_2444', '20210710_102942_18_227a', '20210710_094058_70_2435', '20210710_094056_22_2435', '20210710_100728_100a', '20210716_105851_70_1058', '20210716_105850_20_1058', '20210721_103101_42_2424', '20210721_100940_100a', '20210726_094530_96_2463', '20210801_100802_1039', '20210806_095712_62_222f', '20210811_094324_29_245f', '20210811_094321_99_245f', '20210816_093814_15_1063', '20210816_100922_1011', '20210816_100923_1011', '20210821_103307_61_2419', '20210821_102921_87_2403', '20210821_094306_93_2455', '20210821_094304_62_2455', '20210826_103441_11_2413', '20210826_094443_16_2436', '20210826_094440_86_2436', '20210831_103318_89_2419', '20210831_103316_40_2419', '20210831_094512_79_2435', '20210831_094510_49_2435', '20210906_094314_04_2460', '20210906_094124_25_2423', '20210906_094121_95_2423', '20210911_094348_68_2439', '20210911_094346_38_2439', '20210911_100849_1034', '20210911_100848_1034', '20210918_103145_91_227c', '20210918_103143_61_227c', '20210923_094001_15_106a', '20210928_103022_86_2405', '20211008_110019_20_1066', '20211013_094154_27_2435', '20211018_094345_98_2460', '20211018_094343_68_2460', '20211023_101649_88_105c', '20211023_103036_26_2413', '20211023_094226_98_2448', '20211028_094313_66_2429', '20211028_094311_36_2429', '20211102_094304_31_220b', '20211102_093814_72_106c', '20211114_100746_1005', '20211120_093955_41_2423', '20211120_093600_42_1063', '20211130_103211_21_2405', '20211206_094201_90_242b', '20211213_110617_21_1057', '20211213_110615_71_1057', '20211230_102803_88_2254'], 'item_type': 'PSScene', 'product_bundle': 'analytic_8b_sr_udm2'}], 'delivery': {'google_earth_engine': {'project': 'braided-rivers-ee', 'collection': 'planet_eygue7_2021'}}, 'tools': [{'clip': {'aoi': {'type': 'MultiPolygon', 'coordinates': [[[[4.91588943510856, 44.211980701554474], [4.919121104676019, 44.20944095623606], [4.91782520007276, 44.2090870698574], [4.917265335801108, 44.20906533965949], [4.916863957485318, 44.2087893505205], [4.916624011016038, 44.20867849898615], [4.916466955475128, 44.2084316942382], [4.916082174189892, 44.20834173908083], [4.915159398394788, 44.20746633459301], [4.914384948290356, 44.20735644015716], [4.913334225811278, 44.20669377205252], [4.912064040486246, 44.20530220865854], [4.910489495082756, 44.204873245532625], [4.909456778403319, 44.20407029846575], [4.908477366850409, 44.20372633032983], [4.907598868042738, 44.203642142349025], [4.907353478653067, 44.20269830325958], [4.903788349562426, 44.20378323559256], [4.905877227401128, 44.205551796476904], [4.907243672660227, 44.20710428789758], [4.909992274706736, 44.20942913750944], [4.911682547034496, 44.20995930400439], [4.91351085131234, 44.21026575247416], [4.915128553182849, 44.210926694890105], [4.91588943510856, 44.211980701554474]]]]}}}, {'harmonize': {'target_sensor': 'Sentinel-2'}}]}\n"
     ]
    }
   ],
   "source": [
    "# Product description for the order request, including image_ids from filter\n",
    "data_products = [\n",
    "    planet.order_request.product(item_ids=filtered_image_ids,\n",
    "                                 product_bundle='analytic_8b_sr_udm2', # analytic surface reflectance 8-band multispectral band\n",
    "                                 item_type='PSScene')\n",
    "]\n",
    "\n",
    "\n",
    "# Clip images to the AOI's perimeter and harmonize the data with Dove Classic\n",
    "tools = [\n",
    "    planet.order_request.clip_tool(AOI),\n",
    "    planet.order_request.harmonize_tool('Sentinel-2')\n",
    "]\n",
    "\n",
    "# Build the order request\n",
    "planet_order = planet.order_request.build_request(name='2021_eygue7_order',\n",
    "                                                products=data_products,\n",
    "                                                delivery=delivery_config,\n",
    "                                                tools=tools)\n",
    "\n",
    "print(planet_order)"
   ]
  },
  {
   "cell_type": "markdown",
   "id": "c686f7a2-1dcb-4397-8160-7b045d135346",
   "metadata": {},
   "source": [
    "## Placing the Order for Delivery to GEE"
   ]
  },
  {
   "cell_type": "code",
   "execution_count": 14,
   "id": "9a9094ce-4644-4bf5-babb-2d4ae4ca8218",
   "metadata": {},
   "outputs": [
    {
     "name": "stderr",
     "output_type": "stream",
     "text": [
      "00:02 - order  - state: creating\n"
     ]
    },
    {
     "ename": "BadQuery",
     "evalue": "{\"field\":{\"Details\":[{\"message\":\"No access to assets: PSScene/20210111_104836_03_1058/[ortho_analytic_8b_sr ortho_analytic_8b_xml]\"},{\"message\":\"No access to assets: PSScene/20210116_101256_0f17/[ortho_analytic_8b_sr ortho_analytic_8b_xml]\"},{\"message\":\"No access to assets: PSScene/20210116_101255_0f17/[ortho_analytic_8b_sr ortho_analytic_8b_xml]\"},{\"message\":\"No access to assets: PSScene/20210131_101241_1014/[ortho_analytic_8b_sr ortho_analytic_8b_xml]\"},{\"message\":\"No access to assets: PSScene/20210131_101240_1014/[ortho_analytic_8b_sr ortho_analytic_8b_xml]\"},{\"message\":\"No access to assets: PSScene/20210208_101333_1032/[ortho_analytic_8b_sr ortho_analytic_8b_xml]\"},{\"message\":\"No access to assets: PSScene/20210305_100953_1034/[ortho_analytic_8b_sr ortho_analytic_8b_xml]\"},{\"message\":\"No access to assets: PSScene/20210310_105247_70_1057/[ortho_analytic_8b_sr ortho_analytic_8b_xml]\"},{\"message\":\"No access to assets: PSScene/20210315_101334_1003/[ortho_analytic_8b_sr ortho_analytic_8b_xml]\"},{\"message\":\"No access to assets: PSScene/20210406_101356_1010/[ortho_analytic_8b_sr ortho_analytic_8b_xml]\"},{\"message\":\"No access to assets: PSScene/20210406_100925_1032/[ortho_analytic_8b_sr ortho_analytic_8b_xml]\"},{\"message\":\"No access to assets: PSScene/20210406_100926_1032/[ortho_analytic_8b_sr ortho_analytic_8b_xml]\"},{\"message\":\"No access to assets: PSScene/20210423_094522_17_106c/[ortho_analytic_8b_sr ortho_analytic_8b_xml]\"},{\"message\":\"No access to assets: PSScene/20210423_094520_14_106c/[ortho_analytic_8b_sr ortho_analytic_8b_xml]\"},{\"message\":\"No access to assets: PSScene/20210512_101050_1040/[ortho_analytic_8b_sr ortho_analytic_8b_xml]\"},{\"message\":\"No access to assets: PSScene/20210519_094904_0e20/[ortho_analytic_8b_sr ortho_analytic_8b_xml]\"},{\"message\":\"No access to assets: PSScene/20210525_070108_1050/[ortho_analytic_8b_sr ortho_analytic_8b_xml]\"},{\"message\":\"No access to assets: PSScene/20210530_100912_1039/[ortho_analytic_8b_sr ortho_analytic_8b_xml]\"},{\"message\":\"No access to assets: PSScene/20210710_100728_100a/[ortho_analytic_8b_sr ortho_analytic_8b_xml]\"},{\"message\":\"No access to assets: PSScene/20210716_105851_70_1058/[ortho_analytic_8b_sr ortho_analytic_8b_xml]\"},{\"message\":\"No access to assets: PSScene/20210716_105850_20_1058/[ortho_analytic_8b_sr ortho_analytic_8b_xml]\"},{\"message\":\"No access to assets: PSScene/20210721_100940_100a/[ortho_analytic_8b_sr ortho_analytic_8b_xml]\"},{\"message\":\"No access to assets: PSScene/20210801_100802_1039/[ortho_analytic_8b_sr ortho_analytic_8b_xml]\"},{\"message\":\"No access to assets: PSScene/20210816_093814_15_1063/[ortho_analytic_8b_sr ortho_analytic_8b_xml]\"},{\"message\":\"No access to assets: PSScene/20210816_100922_1011/[ortho_analytic_8b_sr ortho_analytic_8b_xml]\"},{\"message\":\"No access to assets: PSScene/20210816_100923_1011/[ortho_analytic_8b_sr ortho_analytic_8b_xml]\"},{\"message\":\"No access to assets: PSScene/20210911_100849_1034/[ortho_analytic_8b_sr ortho_analytic_8b_xml]\"},{\"message\":\"No access to assets: PSScene/20210911_100848_1034/[ortho_analytic_8b_sr ortho_analytic_8b_xml]\"},{\"message\":\"No access to assets: PSScene/20210923_094001_15_106a/[ortho_analytic_8b_sr ortho_analytic_8b_xml]\"},{\"message\":\"No access to assets: PSScene/20211008_110019_20_1066/[ortho_analytic_8b_sr ortho_analytic_8b_xml]\"},{\"message\":\"No access to assets: PSScene/20211023_101649_88_105c/[ortho_analytic_8b_sr ortho_analytic_8b_xml]\"},{\"message\":\"No access to assets: PSScene/20211102_093814_72_106c/[ortho_analytic_8b_sr ortho_analytic_8b_xml]\"},{\"message\":\"No access to assets: PSScene/20211114_100746_1005/[ortho_analytic_8b_sr ortho_analytic_8b_xml]\"},{\"message\":\"No access to assets: PSScene/20211120_093600_42_1063/[ortho_analytic_8b_sr ortho_analytic_8b_xml]\"},{\"message\":\"No access to assets: PSScene/20211213_110617_21_1057/[ortho_analytic_8b_sr ortho_analytic_8b_xml]\"},{\"message\":\"No access to assets: PSScene/20211213_110615_71_1057/[ortho_analytic_8b_sr ortho_analytic_8b_xml]\"}]},\"general\":[{\"message\":\"Unable to accept order\"}]}\n",
     "output_type": "error",
     "traceback": [
      "\u001b[1;31m---------------------------------------------------------------------------\u001b[0m",
      "\u001b[1;31mHTTPStatusError\u001b[0m                           Traceback (most recent call last)",
      "File \u001b[1;32m~\\AppData\\Local\\Programs\\Python\\Python312\\Lib\\site-packages\\planet\\http.py:279\u001b[0m, in \u001b[0;36mSession._raise_for_status\u001b[1;34m(cls, response)\u001b[0m\n\u001b[0;32m    278\u001b[0m \u001b[38;5;28;01mtry\u001b[39;00m:\n\u001b[1;32m--> 279\u001b[0m     \u001b[43mresponse\u001b[49m\u001b[38;5;241;43m.\u001b[39;49m\u001b[43mraise_for_status\u001b[49m\u001b[43m(\u001b[49m\u001b[43m)\u001b[49m\n\u001b[0;32m    280\u001b[0m \u001b[38;5;28;01mexcept\u001b[39;00m httpx\u001b[38;5;241m.\u001b[39mHTTPStatusError \u001b[38;5;28;01mas\u001b[39;00m e:\n",
      "File \u001b[1;32m~\\AppData\\Local\\Programs\\Python\\Python312\\Lib\\site-packages\\httpx\\_models.py:759\u001b[0m, in \u001b[0;36mResponse.raise_for_status\u001b[1;34m(self)\u001b[0m\n\u001b[0;32m    758\u001b[0m message \u001b[38;5;241m=\u001b[39m message\u001b[38;5;241m.\u001b[39mformat(\u001b[38;5;28mself\u001b[39m, error_type\u001b[38;5;241m=\u001b[39merror_type)\n\u001b[1;32m--> 759\u001b[0m \u001b[38;5;28;01mraise\u001b[39;00m HTTPStatusError(message, request\u001b[38;5;241m=\u001b[39mrequest, response\u001b[38;5;241m=\u001b[39m\u001b[38;5;28mself\u001b[39m)\n",
      "\u001b[1;31mHTTPStatusError\u001b[0m: Client error '400 Bad Request' for url 'https://api.planet.com/compute/ops/orders/v2'\nFor more information check: https://developer.mozilla.org/en-US/docs/Web/HTTP/Status/400",
      "\nDuring handling of the above exception, another exception occurred:\n",
      "\u001b[1;31mBadQuery\u001b[0m                                  Traceback (most recent call last)",
      "Cell \u001b[1;32mIn[14], line 5\u001b[0m\n\u001b[0;32m      3\u001b[0m client \u001b[38;5;241m=\u001b[39m ps\u001b[38;5;241m.\u001b[39mclient(\u001b[38;5;124m'\u001b[39m\u001b[38;5;124morders\u001b[39m\u001b[38;5;124m'\u001b[39m)\n\u001b[0;32m      4\u001b[0m \u001b[38;5;66;03m# Create the order and deliver it to GEE\u001b[39;00m\n\u001b[1;32m----> 5\u001b[0m order_details \u001b[38;5;241m=\u001b[39m \u001b[38;5;28;01mawait\u001b[39;00m create_and_deliver_order(planet_order, client)\n",
      "Cell \u001b[1;32mIn[4], line 11\u001b[0m, in \u001b[0;36mcreate_and_deliver_order\u001b[1;34m(order_request, client)\u001b[0m\n\u001b[0;32m      3\u001b[0m \u001b[38;5;250m\u001b[39m\u001b[38;5;124;03m'''Create and deliver an order.\u001b[39;00m\n\u001b[0;32m      4\u001b[0m \n\u001b[0;32m      5\u001b[0m \u001b[38;5;124;03mParameters:\u001b[39;00m\n\u001b[0;32m      6\u001b[0m \u001b[38;5;124;03m    order_request: An order request\u001b[39;00m\n\u001b[0;32m      7\u001b[0m \u001b[38;5;124;03m    client: An Order client object\u001b[39;00m\n\u001b[0;32m      8\u001b[0m \u001b[38;5;124;03m'''\u001b[39;00m\n\u001b[0;32m      9\u001b[0m \u001b[38;5;28;01mwith\u001b[39;00m planet\u001b[38;5;241m.\u001b[39mreporting\u001b[38;5;241m.\u001b[39mStateBar(state\u001b[38;5;241m=\u001b[39m\u001b[38;5;124m'\u001b[39m\u001b[38;5;124mcreating\u001b[39m\u001b[38;5;124m'\u001b[39m) \u001b[38;5;28;01mas\u001b[39;00m reporter:\n\u001b[0;32m     10\u001b[0m     \u001b[38;5;66;03m# Place an order to the Orders API\u001b[39;00m\n\u001b[1;32m---> 11\u001b[0m     order \u001b[38;5;241m=\u001b[39m \u001b[38;5;28;01mawait\u001b[39;00m client\u001b[38;5;241m.\u001b[39mcreate_order(order_request)\n\u001b[0;32m     12\u001b[0m     reporter\u001b[38;5;241m.\u001b[39mupdate(state\u001b[38;5;241m=\u001b[39m\u001b[38;5;124m'\u001b[39m\u001b[38;5;124mcreated\u001b[39m\u001b[38;5;124m'\u001b[39m, order_id\u001b[38;5;241m=\u001b[39morder[\u001b[38;5;124m'\u001b[39m\u001b[38;5;124mid\u001b[39m\u001b[38;5;124m'\u001b[39m])\n\u001b[0;32m     13\u001b[0m     \u001b[38;5;66;03m# Wait while the order is being completed\u001b[39;00m\n",
      "File \u001b[1;32m~\\AppData\\Local\\Programs\\Python\\Python312\\Lib\\site-packages\\planet\\clients\\orders.py:148\u001b[0m, in \u001b[0;36mOrdersClient.create_order\u001b[1;34m(self, request)\u001b[0m\n\u001b[0;32m    116\u001b[0m \u001b[38;5;250m\u001b[39m\u001b[38;5;124;03m\"\"\"Create an order request.\u001b[39;00m\n\u001b[0;32m    117\u001b[0m \n\u001b[0;32m    118\u001b[0m \u001b[38;5;124;03mExample:\u001b[39;00m\n\u001b[1;32m   (...)\u001b[0m\n\u001b[0;32m    145\u001b[0m \u001b[38;5;124;03m    planet.exceptions.APIError: On API error.\u001b[39;00m\n\u001b[0;32m    146\u001b[0m \u001b[38;5;124;03m\"\"\"\u001b[39;00m\n\u001b[0;32m    147\u001b[0m url \u001b[38;5;241m=\u001b[39m \u001b[38;5;28mself\u001b[39m\u001b[38;5;241m.\u001b[39m_orders_url()\n\u001b[1;32m--> 148\u001b[0m response \u001b[38;5;241m=\u001b[39m \u001b[38;5;28;01mawait\u001b[39;00m \u001b[38;5;28mself\u001b[39m\u001b[38;5;241m.\u001b[39m_session\u001b[38;5;241m.\u001b[39mrequest(method\u001b[38;5;241m=\u001b[39m\u001b[38;5;124m'\u001b[39m\u001b[38;5;124mPOST\u001b[39m\u001b[38;5;124m'\u001b[39m,\n\u001b[0;32m    149\u001b[0m                                        url\u001b[38;5;241m=\u001b[39murl,\n\u001b[0;32m    150\u001b[0m                                        json\u001b[38;5;241m=\u001b[39mrequest)\n\u001b[0;32m    151\u001b[0m \u001b[38;5;28;01mreturn\u001b[39;00m response\u001b[38;5;241m.\u001b[39mjson()\n",
      "File \u001b[1;32m~\\AppData\\Local\\Programs\\Python\\Python312\\Lib\\site-packages\\planet\\http.py:387\u001b[0m, in \u001b[0;36mSession.request\u001b[1;34m(self, method, url, json, params)\u001b[0m\n\u001b[0;32m    379\u001b[0m     headers \u001b[38;5;241m=\u001b[39m \u001b[38;5;28;01mNone\u001b[39;00m\n\u001b[0;32m    381\u001b[0m request \u001b[38;5;241m=\u001b[39m \u001b[38;5;28mself\u001b[39m\u001b[38;5;241m.\u001b[39m_client\u001b[38;5;241m.\u001b[39mbuild_request(method\u001b[38;5;241m=\u001b[39mmethod,\n\u001b[0;32m    382\u001b[0m                                      url\u001b[38;5;241m=\u001b[39murl,\n\u001b[0;32m    383\u001b[0m                                      json\u001b[38;5;241m=\u001b[39mjson,\n\u001b[0;32m    384\u001b[0m                                      params\u001b[38;5;241m=\u001b[39mparams,\n\u001b[0;32m    385\u001b[0m                                      headers\u001b[38;5;241m=\u001b[39mheaders)\n\u001b[1;32m--> 387\u001b[0m http_response \u001b[38;5;241m=\u001b[39m \u001b[38;5;28;01mawait\u001b[39;00m \u001b[38;5;28mself\u001b[39m\u001b[38;5;241m.\u001b[39m_retry(\u001b[38;5;28mself\u001b[39m\u001b[38;5;241m.\u001b[39m_send, request, stream\u001b[38;5;241m=\u001b[39m\u001b[38;5;28;01mFalse\u001b[39;00m)\n\u001b[0;32m    388\u001b[0m \u001b[38;5;28;01mreturn\u001b[39;00m models\u001b[38;5;241m.\u001b[39mResponse(http_response)\n",
      "File \u001b[1;32m~\\AppData\\Local\\Programs\\Python\\Python312\\Lib\\site-packages\\planet\\http.py:330\u001b[0m, in \u001b[0;36mSession._retry\u001b[1;34m(self, func, *a, **kw)\u001b[0m\n\u001b[0;32m    328\u001b[0m                 \u001b[38;5;28;01mawait\u001b[39;00m asyncio\u001b[38;5;241m.\u001b[39msleep(wait_time)\n\u001b[0;32m    329\u001b[0m         \u001b[38;5;28;01melse\u001b[39;00m:\n\u001b[1;32m--> 330\u001b[0m             \u001b[38;5;28;01mraise\u001b[39;00m e\n\u001b[0;32m    332\u001b[0m \u001b[38;5;28mself\u001b[39m\u001b[38;5;241m.\u001b[39moutcomes\u001b[38;5;241m.\u001b[39mupdate([\u001b[38;5;124m'\u001b[39m\u001b[38;5;124mSuccessful\u001b[39m\u001b[38;5;124m'\u001b[39m])\n\u001b[0;32m    333\u001b[0m \u001b[38;5;28;01mreturn\u001b[39;00m resp\n",
      "File \u001b[1;32m~\\AppData\\Local\\Programs\\Python\\Python312\\Lib\\site-packages\\planet\\http.py:315\u001b[0m, in \u001b[0;36mSession._retry\u001b[1;34m(self, func, *a, **kw)\u001b[0m\n\u001b[0;32m    313\u001b[0m num_tries \u001b[38;5;241m+\u001b[39m\u001b[38;5;241m=\u001b[39m \u001b[38;5;241m1\u001b[39m\n\u001b[0;32m    314\u001b[0m \u001b[38;5;28;01mtry\u001b[39;00m:\n\u001b[1;32m--> 315\u001b[0m     resp \u001b[38;5;241m=\u001b[39m \u001b[38;5;28;01mawait\u001b[39;00m func(\u001b[38;5;241m*\u001b[39ma, \u001b[38;5;241m*\u001b[39m\u001b[38;5;241m*\u001b[39mkw)\n\u001b[0;32m    316\u001b[0m     \u001b[38;5;28;01mbreak\u001b[39;00m\n\u001b[0;32m    317\u001b[0m \u001b[38;5;28;01mexcept\u001b[39;00m \u001b[38;5;167;01mException\u001b[39;00m \u001b[38;5;28;01mas\u001b[39;00m e:\n",
      "File \u001b[1;32m~\\AppData\\Local\\Programs\\Python\\Python312\\Lib\\site-packages\\planet\\http.py:393\u001b[0m, in \u001b[0;36mSession._send\u001b[1;34m(self, request, stream)\u001b[0m\n\u001b[0;32m    391\u001b[0m \u001b[38;5;250m\u001b[39m\u001b[38;5;124;03m\"\"\"Send request with with rate/worker limiting.\"\"\"\u001b[39;00m\n\u001b[0;32m    392\u001b[0m \u001b[38;5;28;01masync\u001b[39;00m \u001b[38;5;28;01mwith\u001b[39;00m \u001b[38;5;28mself\u001b[39m\u001b[38;5;241m.\u001b[39m_limiter:\n\u001b[1;32m--> 393\u001b[0m     http_resp \u001b[38;5;241m=\u001b[39m \u001b[38;5;28;01mawait\u001b[39;00m \u001b[38;5;28mself\u001b[39m\u001b[38;5;241m.\u001b[39m_client\u001b[38;5;241m.\u001b[39msend(request, stream\u001b[38;5;241m=\u001b[39mstream)\n\u001b[0;32m    395\u001b[0m \u001b[38;5;28;01mreturn\u001b[39;00m http_resp\n",
      "File \u001b[1;32m~\\AppData\\Local\\Programs\\Python\\Python312\\Lib\\site-packages\\httpx\\_client.py:1646\u001b[0m, in \u001b[0;36mAsyncClient.send\u001b[1;34m(self, request, stream, auth, follow_redirects)\u001b[0m\n\u001b[0;32m   1638\u001b[0m follow_redirects \u001b[38;5;241m=\u001b[39m (\n\u001b[0;32m   1639\u001b[0m     \u001b[38;5;28mself\u001b[39m\u001b[38;5;241m.\u001b[39mfollow_redirects\n\u001b[0;32m   1640\u001b[0m     \u001b[38;5;28;01mif\u001b[39;00m \u001b[38;5;28misinstance\u001b[39m(follow_redirects, UseClientDefault)\n\u001b[0;32m   1641\u001b[0m     \u001b[38;5;28;01melse\u001b[39;00m follow_redirects\n\u001b[0;32m   1642\u001b[0m )\n\u001b[0;32m   1644\u001b[0m auth \u001b[38;5;241m=\u001b[39m \u001b[38;5;28mself\u001b[39m\u001b[38;5;241m.\u001b[39m_build_request_auth(request, auth)\n\u001b[1;32m-> 1646\u001b[0m response \u001b[38;5;241m=\u001b[39m \u001b[38;5;28;01mawait\u001b[39;00m \u001b[38;5;28mself\u001b[39m\u001b[38;5;241m.\u001b[39m_send_handling_auth(\n\u001b[0;32m   1647\u001b[0m     request,\n\u001b[0;32m   1648\u001b[0m     auth\u001b[38;5;241m=\u001b[39mauth,\n\u001b[0;32m   1649\u001b[0m     follow_redirects\u001b[38;5;241m=\u001b[39mfollow_redirects,\n\u001b[0;32m   1650\u001b[0m     history\u001b[38;5;241m=\u001b[39m[],\n\u001b[0;32m   1651\u001b[0m )\n\u001b[0;32m   1652\u001b[0m \u001b[38;5;28;01mtry\u001b[39;00m:\n\u001b[0;32m   1653\u001b[0m     \u001b[38;5;28;01mif\u001b[39;00m \u001b[38;5;129;01mnot\u001b[39;00m stream:\n",
      "File \u001b[1;32m~\\AppData\\Local\\Programs\\Python\\Python312\\Lib\\site-packages\\httpx\\_client.py:1674\u001b[0m, in \u001b[0;36mAsyncClient._send_handling_auth\u001b[1;34m(self, request, auth, follow_redirects, history)\u001b[0m\n\u001b[0;32m   1671\u001b[0m request \u001b[38;5;241m=\u001b[39m \u001b[38;5;28;01mawait\u001b[39;00m auth_flow\u001b[38;5;241m.\u001b[39m\u001b[38;5;21m__anext__\u001b[39m()\n\u001b[0;32m   1673\u001b[0m \u001b[38;5;28;01mwhile\u001b[39;00m \u001b[38;5;28;01mTrue\u001b[39;00m:\n\u001b[1;32m-> 1674\u001b[0m     response \u001b[38;5;241m=\u001b[39m \u001b[38;5;28;01mawait\u001b[39;00m \u001b[38;5;28mself\u001b[39m\u001b[38;5;241m.\u001b[39m_send_handling_redirects(\n\u001b[0;32m   1675\u001b[0m         request,\n\u001b[0;32m   1676\u001b[0m         follow_redirects\u001b[38;5;241m=\u001b[39mfollow_redirects,\n\u001b[0;32m   1677\u001b[0m         history\u001b[38;5;241m=\u001b[39mhistory,\n\u001b[0;32m   1678\u001b[0m     )\n\u001b[0;32m   1679\u001b[0m     \u001b[38;5;28;01mtry\u001b[39;00m:\n\u001b[0;32m   1680\u001b[0m         \u001b[38;5;28;01mtry\u001b[39;00m:\n",
      "File \u001b[1;32m~\\AppData\\Local\\Programs\\Python\\Python312\\Lib\\site-packages\\httpx\\_client.py:1732\u001b[0m, in \u001b[0;36mAsyncClient._send_handling_redirects\u001b[1;34m(self, request, follow_redirects, history)\u001b[0m\n\u001b[0;32m   1730\u001b[0m \u001b[38;5;28;01mexcept\u001b[39;00m \u001b[38;5;167;01mBaseException\u001b[39;00m \u001b[38;5;28;01mas\u001b[39;00m exc:\n\u001b[0;32m   1731\u001b[0m     \u001b[38;5;28;01mawait\u001b[39;00m response\u001b[38;5;241m.\u001b[39maclose()\n\u001b[1;32m-> 1732\u001b[0m     \u001b[38;5;28;01mraise\u001b[39;00m exc\n",
      "File \u001b[1;32m~\\AppData\\Local\\Programs\\Python\\Python312\\Lib\\site-packages\\httpx\\_client.py:1714\u001b[0m, in \u001b[0;36mAsyncClient._send_handling_redirects\u001b[1;34m(self, request, follow_redirects, history)\u001b[0m\n\u001b[0;32m   1712\u001b[0m \u001b[38;5;28;01mtry\u001b[39;00m:\n\u001b[0;32m   1713\u001b[0m     \u001b[38;5;28;01mfor\u001b[39;00m hook \u001b[38;5;129;01min\u001b[39;00m \u001b[38;5;28mself\u001b[39m\u001b[38;5;241m.\u001b[39m_event_hooks[\u001b[38;5;124m\"\u001b[39m\u001b[38;5;124mresponse\u001b[39m\u001b[38;5;124m\"\u001b[39m]:\n\u001b[1;32m-> 1714\u001b[0m         \u001b[38;5;28;01mawait\u001b[39;00m hook(response)\n\u001b[0;32m   1716\u001b[0m     response\u001b[38;5;241m.\u001b[39mhistory \u001b[38;5;241m=\u001b[39m \u001b[38;5;28mlist\u001b[39m(history)\n\u001b[0;32m   1718\u001b[0m     \u001b[38;5;28;01mif\u001b[39;00m \u001b[38;5;129;01mnot\u001b[39;00m response\u001b[38;5;241m.\u001b[39mhas_redirect_location:\n",
      "File \u001b[1;32m~\\AppData\\Local\\Programs\\Python\\Python312\\Lib\\site-packages\\planet\\http.py:282\u001b[0m, in \u001b[0;36mSession._raise_for_status\u001b[1;34m(cls, response)\u001b[0m\n\u001b[0;32m    280\u001b[0m     \u001b[38;5;28;01mexcept\u001b[39;00m httpx\u001b[38;5;241m.\u001b[39mHTTPStatusError \u001b[38;5;28;01mas\u001b[39;00m e:\n\u001b[0;32m    281\u001b[0m         \u001b[38;5;28;01mawait\u001b[39;00m e\u001b[38;5;241m.\u001b[39mresponse\u001b[38;5;241m.\u001b[39maread()\n\u001b[1;32m--> 282\u001b[0m         \u001b[38;5;28;43mcls\u001b[39;49m\u001b[38;5;241;43m.\u001b[39;49m\u001b[43m_convert_and_raise\u001b[49m\u001b[43m(\u001b[49m\u001b[43me\u001b[49m\u001b[43m)\u001b[49m\n\u001b[0;32m    284\u001b[0m \u001b[38;5;28;01mreturn\u001b[39;00m\n",
      "File \u001b[1;32m~\\AppData\\Local\\Programs\\Python\\Python312\\Lib\\site-packages\\planet\\http.py:95\u001b[0m, in \u001b[0;36mBaseSession._convert_and_raise\u001b[1;34m(cls, error)\u001b[0m\n\u001b[0;32m     84\u001b[0m error_types \u001b[38;5;241m=\u001b[39m {\n\u001b[0;32m     85\u001b[0m     HTTPStatus\u001b[38;5;241m.\u001b[39mBAD_REQUEST: exceptions\u001b[38;5;241m.\u001b[39mBadQuery,\n\u001b[0;32m     86\u001b[0m     HTTPStatus\u001b[38;5;241m.\u001b[39mUNAUTHORIZED: exceptions\u001b[38;5;241m.\u001b[39mInvalidAPIKey,\n\u001b[1;32m   (...)\u001b[0m\n\u001b[0;32m     92\u001b[0m     HTTPStatus\u001b[38;5;241m.\u001b[39mBAD_GATEWAY: exceptions\u001b[38;5;241m.\u001b[39mBadGateway\n\u001b[0;32m     93\u001b[0m }\n\u001b[0;32m     94\u001b[0m error_type \u001b[38;5;241m=\u001b[39m error_types\u001b[38;5;241m.\u001b[39mget(response\u001b[38;5;241m.\u001b[39mstatus_code, exceptions\u001b[38;5;241m.\u001b[39mAPIError)\n\u001b[1;32m---> 95\u001b[0m \u001b[38;5;28;01mraise\u001b[39;00m error_type(response\u001b[38;5;241m.\u001b[39mtext)\n",
      "\u001b[1;31mBadQuery\u001b[0m: {\"field\":{\"Details\":[{\"message\":\"No access to assets: PSScene/20210111_104836_03_1058/[ortho_analytic_8b_sr ortho_analytic_8b_xml]\"},{\"message\":\"No access to assets: PSScene/20210116_101256_0f17/[ortho_analytic_8b_sr ortho_analytic_8b_xml]\"},{\"message\":\"No access to assets: PSScene/20210116_101255_0f17/[ortho_analytic_8b_sr ortho_analytic_8b_xml]\"},{\"message\":\"No access to assets: PSScene/20210131_101241_1014/[ortho_analytic_8b_sr ortho_analytic_8b_xml]\"},{\"message\":\"No access to assets: PSScene/20210131_101240_1014/[ortho_analytic_8b_sr ortho_analytic_8b_xml]\"},{\"message\":\"No access to assets: PSScene/20210208_101333_1032/[ortho_analytic_8b_sr ortho_analytic_8b_xml]\"},{\"message\":\"No access to assets: PSScene/20210305_100953_1034/[ortho_analytic_8b_sr ortho_analytic_8b_xml]\"},{\"message\":\"No access to assets: PSScene/20210310_105247_70_1057/[ortho_analytic_8b_sr ortho_analytic_8b_xml]\"},{\"message\":\"No access to assets: PSScene/20210315_101334_1003/[ortho_analytic_8b_sr ortho_analytic_8b_xml]\"},{\"message\":\"No access to assets: PSScene/20210406_101356_1010/[ortho_analytic_8b_sr ortho_analytic_8b_xml]\"},{\"message\":\"No access to assets: PSScene/20210406_100925_1032/[ortho_analytic_8b_sr ortho_analytic_8b_xml]\"},{\"message\":\"No access to assets: PSScene/20210406_100926_1032/[ortho_analytic_8b_sr ortho_analytic_8b_xml]\"},{\"message\":\"No access to assets: PSScene/20210423_094522_17_106c/[ortho_analytic_8b_sr ortho_analytic_8b_xml]\"},{\"message\":\"No access to assets: PSScene/20210423_094520_14_106c/[ortho_analytic_8b_sr ortho_analytic_8b_xml]\"},{\"message\":\"No access to assets: PSScene/20210512_101050_1040/[ortho_analytic_8b_sr ortho_analytic_8b_xml]\"},{\"message\":\"No access to assets: PSScene/20210519_094904_0e20/[ortho_analytic_8b_sr ortho_analytic_8b_xml]\"},{\"message\":\"No access to assets: PSScene/20210525_070108_1050/[ortho_analytic_8b_sr ortho_analytic_8b_xml]\"},{\"message\":\"No access to assets: PSScene/20210530_100912_1039/[ortho_analytic_8b_sr ortho_analytic_8b_xml]\"},{\"message\":\"No access to assets: PSScene/20210710_100728_100a/[ortho_analytic_8b_sr ortho_analytic_8b_xml]\"},{\"message\":\"No access to assets: PSScene/20210716_105851_70_1058/[ortho_analytic_8b_sr ortho_analytic_8b_xml]\"},{\"message\":\"No access to assets: PSScene/20210716_105850_20_1058/[ortho_analytic_8b_sr ortho_analytic_8b_xml]\"},{\"message\":\"No access to assets: PSScene/20210721_100940_100a/[ortho_analytic_8b_sr ortho_analytic_8b_xml]\"},{\"message\":\"No access to assets: PSScene/20210801_100802_1039/[ortho_analytic_8b_sr ortho_analytic_8b_xml]\"},{\"message\":\"No access to assets: PSScene/20210816_093814_15_1063/[ortho_analytic_8b_sr ortho_analytic_8b_xml]\"},{\"message\":\"No access to assets: PSScene/20210816_100922_1011/[ortho_analytic_8b_sr ortho_analytic_8b_xml]\"},{\"message\":\"No access to assets: PSScene/20210816_100923_1011/[ortho_analytic_8b_sr ortho_analytic_8b_xml]\"},{\"message\":\"No access to assets: PSScene/20210911_100849_1034/[ortho_analytic_8b_sr ortho_analytic_8b_xml]\"},{\"message\":\"No access to assets: PSScene/20210911_100848_1034/[ortho_analytic_8b_sr ortho_analytic_8b_xml]\"},{\"message\":\"No access to assets: PSScene/20210923_094001_15_106a/[ortho_analytic_8b_sr ortho_analytic_8b_xml]\"},{\"message\":\"No access to assets: PSScene/20211008_110019_20_1066/[ortho_analytic_8b_sr ortho_analytic_8b_xml]\"},{\"message\":\"No access to assets: PSScene/20211023_101649_88_105c/[ortho_analytic_8b_sr ortho_analytic_8b_xml]\"},{\"message\":\"No access to assets: PSScene/20211102_093814_72_106c/[ortho_analytic_8b_sr ortho_analytic_8b_xml]\"},{\"message\":\"No access to assets: PSScene/20211114_100746_1005/[ortho_analytic_8b_sr ortho_analytic_8b_xml]\"},{\"message\":\"No access to assets: PSScene/20211120_093600_42_1063/[ortho_analytic_8b_sr ortho_analytic_8b_xml]\"},{\"message\":\"No access to assets: PSScene/20211213_110617_21_1057/[ortho_analytic_8b_sr ortho_analytic_8b_xml]\"},{\"message\":\"No access to assets: PSScene/20211213_110615_71_1057/[ortho_analytic_8b_sr ortho_analytic_8b_xml]\"}]},\"general\":[{\"message\":\"Unable to accept order\"}]}\n"
     ]
    }
   ],
   "source": [
    "async with planet.Session() as ps:\n",
    "    # The Orders API client\n",
    "    client = ps.client('orders')\n",
    "    # Create the order and deliver it to GEE\n",
    "    order_details = await create_and_deliver_order(planet_order, client)"
   ]
  },
  {
   "cell_type": "code",
   "execution_count": 25,
   "id": "ab379add-3626-479b-9931-604aeb8b789a",
   "metadata": {},
   "outputs": [
    {
     "name": "stdout",
     "output_type": "stream",
     "text": [
      "{'_links': {'_self': 'https://api.planet.com/compute/ops/orders/v2/f59739b0-4e62-46c6-96d2-281b6dba6909'}, 'created_on': '2024-02-13T13:53:31.726Z', 'delivery': {'google_earth_engine': {'collection': 'planet_collection', 'project': 'braided-rivers-ee'}}, 'error_hints': [], 'id': 'f59739b0-4e62-46c6-96d2-281b6dba6909', 'last_message': 'Quota check failed - Over quota ', 'last_modified': '2024-02-13T13:53:53.861Z', 'name': 'test_order', 'products': [{'item_ids': ['20230601_093817_62_24b5', '20230601_093815_33_24b5', '20230601_100902_05_2490', '20230606_094116_16_24bb', '20230606_093533_58_24b4', '20230606_093531_24_24b4', '20230606_093254_08_242d', '20230606_093256_21_242d', '20230606_093251_94_242d', '20230606_093300_48_242d', '20230606_093258_35_242d', '20230606_101224_93_2488', '20230611_093837_30_24c9', '20230611_093841_90_24c9', '20230611_093844_21_24c9', '20230611_093530_85_2430', '20230611_093522_48_2430', '20230611_093528_76_2430', '20230611_093220_08_2427', '20230611_093213_81_2427', '20230611_093215_90_2427', '20230616_093905_56_2465', '20230616_093901_34_2465', '20230616_093859_23_2465', '20230616_093903_45_2465', '20230616_093857_13_2465', '20230616_101026_20_2486', '20230616_101032_66_2486', '20230616_101028_35_2486', '20230616_101030_51_2486', '20230616_101105_27_249c', '20230616_101052_55_249c', '20230616_101056_79_249c', '20230616_101058_91_249c', '20230616_101050_43_249c', '20230616_101103_15_249c', '20230616_101101_03_249c', '20230623_093303_92_2447', '20230623_093306_02_2447', '20230623_100740_37_248e', '20230623_100738_21_248e', '20230623_093833_39_242d', '20230623_093837_70_242d', '20230623_093811_12_24b4', '20230623_093815_83_24b4', '20230623_093512_93_24bf', '20230623_093508_21_24bf', '20230623_093517_66_24bf', '20230623_093503_49_24bf', '20230623_093510_57_24bf', '20230623_093505_85_24bf', '20230623_093835_55_242d', '20230623_093842_02_242d', '20230623_093839_86_242d', '20230623_100800_62_2251', '20230623_100758_78_2251', '20230623_101818_56_2486', '20230623_100939_84_2490', '20230623_100946_27_2490', '20230623_100952_70_2490', '20230623_100944_13_2490', '20230623_100948_41_2490', '20230623_100950_55_2490', '20230623_100937_70_2490', '20230623_093351_80_2465', '20230628_093311_17_24c5', '20230628_093313_53_24c5', '20230628_093956_17_24c9', '20230628_093446_87_2427', '20230628_093501_63_2427', '20230628_093448_98_2427', '20230628_093457_41_2427', '20230628_093958_48_24c9', '20230628_094000_80_24c9', '20230628_093951_55_24c9', '20230628_093455_30_2427', '20230703_094414_21_24c5', '20230703_094416_57_24c5', '20230703_094418_92_24c5', '20230703_093758_12_2415', '20230703_093800_47_2415', '20230703_093729_12_2465', '20230703_093805_15_2415', '20230703_093809_83_2415', '20230703_093807_49_2415', '20230703_093812_18_2415', '20230703_093814_52_2415', '20230703_093852_16_242e', '20230703_093856_88_242e', '20230703_093849_80_242e', '20230703_093854_52_242e', '20230703_101134_88_2276', '20230708_093532_47_24c7', '20230708_093534_78_24c7', '20230708_093544_01_24c7', '20230708_093539_40_24c7', '20230708_093537_09_24c7', '20230708_093406_51_2460', '20230708_093408_66_2460', '20230708_093402_20_2460', '20230708_093410_82_2460', '20230708_093806_45_24ab', '20230708_093757_26_24ab', '20230708_093801_85_24ab', '20230708_093754_96_24ab', '20230708_093808_75_24ab', '20230708_093804_15_24ab', '20230708_093759_56_24ab', '20230708_093234_56_2458', '20230708_101535_20_249e', '20230713_093854_74_2465', '20230713_093856_87_2465', '20230713_093033_43_2431', '20230713_093035_55_2431', '20230713_093031_31_2431', '20230713_101516_46_24a4', '20230713_094022_16_24a1', '20230713_094024_49_24a1', '20230713_094000_85_24ba', '20230713_094005_51_24ba', '20230713_093956_18_24ba', '20230713_093958_52_24ba', '20230713_094031_48_24a1', '20230719_093226_60_2451', '20230719_093235_21_2451', '20230719_093228_75_2451', '20230719_093654_61_24b3', '20230719_093656_92_24b3', '20230719_093818_78_24c4', '20230726_101529_03_2482', '20230726_101526_93_2482', '20230726_093800_48_2439', '20230726_093756_26_2439', '20230726_093758_37_2439', '20230726_093745_73_2439', '20230726_093747_84_2439', '20230726_093752_05_2439', '20230726_093754_16_2439', '20230726_093902_92_24c9', '20230726_101535_32_2482', '20230726_101533_22_2482', '20230726_101531_13_2482', '20230726_101056_34_2251', '20230726_101103_69_2251', '20230726_101105_52_2251', '20230726_101101_85_2251', '20230726_101058_18_2251', '20230726_101318_99_249e', '20230726_101327_57_249e', '20230726_101331_86_249e', '20230726_101329_71_249e', '20230726_101325_43_249e', '20230726_101316_85_249e', '20230726_101323_28_249e', '20230731_100913_34_24a4', '20230731_094133_81_24cf', '20230731_094136_08_24cf', '20230731_093520_16_2455', '20230731_093513_86_2455', '20230731_093522_27_2455', '20230731_101824_62_249a', '20230731_101826_73_249a', '20230731_101223_65_247b', '20230731_101215_20_247b', '20230731_101227_87_247b', '20230731_101217_31_247b', '20230731_101229_99_247b', '20230731_101219_42_247b', '20230731_101221_54_247b', '20230731_093805_34_242e', '20230731_093803_06_242e', '20230731_093758_50_242e', '20230731_093807_62_242e', '20230731_093751_66_242e', '20230731_093800_78_242e', '20230731_093753_94_242e', '20230805_101839_83_249c', '20230805_101837_70_249c', '20230805_101835_57_249c', '20230805_093805_25_24a8', '20230805_093802_98_24a8', '20230805_093758_45_24a8', '20230805_093800_72_24a8', '20230805_101418_84_2486', '20230805_101423_15_2486', '20230805_101429_63_2486', '20230805_101427_47_2486', '20230805_101416_68_2486', '20230805_101425_31_2486', '20230805_094155_29_2465', '20230805_094157_38_2465', '20230805_094159_46_2465', '20230810_093558_85_24a7', '20230810_093601_12_24a7', '20230810_093549_75_24a7', '20230810_093811_94_24b3', '20230810_093825_46_24b3', '20230810_093820_96_24b3', '20230810_093709_91_24ba', '20230810_093753_16_24c4', '20230810_093757_59_24c4', '20230810_093755_37_24c4', '20230810_093759_80_24c4', '20230810_093937_77_2458', '20230810_093939_85_2458', '20230810_093931_52_2458', '20230810_093933_60_2458', '20230816_101909_77_2473', '20230816_101905_42_2473', '20230816_101911_94_2473', '20230816_101903_25_2473', '20230816_101327_81_248f', '20230816_101332_16_248f', '20230816_101334_33_248f', '20230816_101336_50_248f', '20230816_101338_67_248f', '20230816_103243_16_2426', '20230816_103241_14_2426', '20230816_101135_97_2276', '20230816_101139_99_2276', '20230816_101137_98_2276', '20230821_093600_95_24ba', '20230821_101539_74_249a', '20230821_101552_51_249a', '20230821_101546_13_249a', '20230821_101544_00_249a', '20230821_101550_38_249a', '20230821_101537_61_249a', '20230821_101548_25_249a', '20230821_093153_82_2451', '20230821_093151_71_2451', '20230828_102043_31_2446', '20230902_094255_56_2429', '20230902_094249_38_2429', '20230902_094257_61_2429', '20230907_093707_24_242d', '20230907_093703_06_242d', '20230907_093711_43_242d', '20230907_093713_52_242d', '20230907_093709_33_242d', '20230907_093700_96_242d', '20230907_094324_13_24c9', '20230907_101829_79_249a', '20230907_101821_33_249a', '20230907_101827_67_249a', '20230907_101825_56_249a', '20230907_093623_96_24a7', '20230907_093626_27_24a7', '20230907_093630_87_24a7', '20230907_093628_57_24a7', '20230912_101503_88_2484', '20230912_101505_99_2484', '20230912_094556_47_24cf', '20230912_094603_35_24cf', '20230912_101704_83_249c', '20230912_101700_60_249c', '20230912_101706_94_249c', '20230912_094157_78_24ca', '20230912_101658_49_249c', '20230912_101702_71_249c', '20230912_101724_05_2482', '20230912_101726_16_2482', '20230917_093909_81_24c7', '20230917_093912_09_24c7', '20230917_093916_64_24c7', '20230917_093914_36_24c7', '20230917_093942_62_24a8', '20230917_103302_48_2426', '20230917_103300_47_2426', '20230917_103304_50_2426', '20230917_103306_51_2426', '20230917_103258_46_2426', '20230922_101618_33_2484', '20230922_101616_24_2484', '20230922_093743_78_24ba', '20230922_093739_13_24ba', '20230922_093741_45_24ba', '20230922_094309_87_24a1', '20230922_093215_59_2451', '20230922_093213_49_2451', '20230927_102101_96_249a', '20230927_093408_12_24c4', '20230927_093410_41_24c4', '20230927_093412_70_24c4', '20230927_094111_32_241e', '20230927_094555_60_2427', '20230927_094603_83_2427', '20230927_094601_77_2427', '20230927_093847_31_2458', '20230927_093849_38_2458', '20230927_094158_33_24ba', '20230927_094155_99_24ba', '20230927_094200_67_24ba', '20230927_094151_32_24ba', '20230927_094153_66_24ba', '20230927_093849_62_24b3', '20230927_093840_28_24b3', '20230927_093847_28_24b3', '20230927_093851_95_24b3', '20231002_093653_69_2423', '20231002_093655_75_2423', '20231002_093647_49_2423', '20231002_093651_62_2423', '20231002_094147_00_242d', '20231002_094144_89_242d', '20231002_094151_23_242d', '20231002_094155_45_242d', '20231002_094149_12_242d', '20231002_094142_78_242d', '20231002_094140_67_242d', '20231002_102149_20_241c', '20231002_101927_99_249c', '20231002_101925_92_249c', '20231007_102026_79_2475', '20231007_102028_93_2475', '20231007_101515_39_2251', '20231007_101509_91_2251', '20231007_101508_08_2251', '20231007_101520_87_2251', '20231007_101517_21_2251', '20231007_093856_49_24c4', '20231007_093847_32_24c4', '20231007_093901_08_24c4', '20231007_093849_61_24c4', '20231007_093858_79_24c4', '20231007_093854_20_24c4', '20231012_101820_69_2488', '20231012_101824_88_2488', '20231012_101822_78_2488', '20231012_101816_50_2488', '20231012_101715_03_2479', '20231012_101717_12_2479', '20231012_101721_29_2479', '20231012_101719_20_2479', '20231012_101956_93_247f', '20231012_102001_10_247f', '20231012_101614_80_2481', '20231012_101612_75_2481', '20231012_101623_02_2481', '20231012_101620_96_2481', '20231012_101618_91_2481', '20231012_101625_07_2481', '20231012_094019_49_24c4', '20231012_094017_20_24c4', '20231012_094010_35_24c4', '20231012_094005_78_24c4', '20231012_094014_92_24c4', '20231012_094008_07_24c4', '20231012_094012_63_24c4', '20231018_094431_31_242e', '20231025_093509_76_2459', '20231031_093357_55_2459', '20231031_101952_55_2488', '20231107_094116_38_24c5', '20231107_094114_13_24c5', '20231107_094109_61_24c5', '20231107_094111_87_24c5', '20231107_094109_68_24c8', '20231107_094111_92_24c8', '20231107_094118_64_24c5', '20231107_094107_44_24c8', '20231107_094105_20_24c8', '20231107_093805_33_24a8', '20231107_093807_59_24a8', '20231107_093800_83_24a8', '20231107_093803_08_24a8', '20231107_094050_32_24a1', '20231107_094052_57_24a1', '20231107_093946_58_24c7', '20231112_094151_71_2465', '20231117_094224_16_24cf', '20231117_094230_72_24cf', '20231117_094217_60_24cf', '20231117_094215_42_24cf', '20231117_094226_35_24cf', '20231117_094228_53_24cf', '20231117_094331_32_24ca', '20231117_102433_20_2478', '20231117_102435_25_2478', '20231117_101923_65_2470', '20231117_101913_40_2470', '20231117_101925_70_2470', '20231117_101921_60_2470', '20231122_102539_68_2461', '20231122_102537_62_2461', '20231122_094024_53_24ca', '20231122_102228_69_247b', '20231122_094035_43_24ca', '20231122_094037_61_24ca', '20231122_093900_57_24cf', '20231122_093858_39_24cf', '20231122_093856_21_24cf', '20231128_093927_39_24ab', '20231128_093929_55_24ab', '20231203_102718_73_2276', '20231203_102710_00_2276', '20231203_102713_49_2276', '20231203_102715_24_2276', '20231203_102716_99_2276', '20231203_102507_07_247a', '20231203_093929_23_24b6', '20231203_093931_43_24b6', '20231203_093933_62_24b6', '20231203_093924_85_24b6', '20231203_093927_04_24b6', '20231203_102136_86_2486', '20231203_102140_99_2486', '20231203_102134_80_2486', '20231203_093927_79_24b2', '20231203_093936_57_24b2', '20231203_093938_77_24b2', '20231210_102926_54_249a', '20231210_102934_70_249a', '20231210_102932_66_249a', '20231210_102930_62_249a', '20231210_093926_12_24ba', '20231210_093928_30_24ba', '20231210_102219_74_2461', '20231210_093930_49_24ba', '20231210_093932_68_24ba', '20231210_093937_05_24ba', '20231210_094117_91_2460', '20231210_094115_92_2460', '20231215_094653_17_24a1', '20231215_094659_75_24a1', '20231215_094701_94_24a1', '20231215_094657_56_24a1', '20231215_094155_17_24a8', '20231215_094157_36_24a8', '20231215_102023_33_247a', '20231215_102027_43_247a', '20231215_102025_38_247a', '20231215_102029_48_247a', '20231215_102017_27_247f', '20231215_102027_51_247f', '20231215_102023_41_247f', '20231215_102021_36_247f', '20231215_102019_31_247f', '20231220_103007_75_2479', '20231220_103009_79_2479', '20231225_094308_60_242d', '20231225_094024_87_24bf', '20231225_094022_65_24bf', '20231225_094322_51_24bb', '20231225_094320_29_24bb', '20231225_094141_29_24ca', '20231225_094134_65_24ca', '20231225_094136_86_24ca', '20231225_094143_51_24ca', '20231225_094609_19_24b4', '20231225_094606_97_24b4', '20231225_094613_63_24b4', '20231225_094611_41_24b4', '20231225_094615_85_24b4', '20231225_104040_67_24e6', '20231225_104036_06_24e6', '20231225_104038_36_24e6', '20231225_103854_59_24cb', '20231225_103852_30_24cb', '20231225_103850_00_24cb', '20231225_103847_71_24cb', '20231225_102631_91_2438', '20231225_102633_94_2438', '20231225_102625_83_2438', '20231225_102627_86_2438', '20231225_102629_88_2438', '20231230_102055_65_227a', '20231230_102049_50_227a', '20231230_102053_60_227a', '20231230_094355_80_24c3', '20231230_094353_58_24c3', '20231230_102558_88_248f', '20231230_102556_86_248f', '20231230_102550_80_248f', '20231230_102552_82_248f'], 'item_type': 'PSScene', 'product_bundle': 'analytic_sr_udm2'}], 'state': 'failed', 'tools': [{'clip': {'aoi': {'coordinates': [[[[6.027887384565446, 43.89969525739723], [6.028788386347399, 43.90013855440287], [6.028788386347399, 43.90013855440287], [6.029436370751815, 43.90061257366881], [6.030455419782593, 43.90090985507094], [6.031188692899115, 43.90128323135298], [6.031443454539094, 43.90151429138145], [6.031884125811929, 43.902015632540035], [6.033415754798081, 43.902664259076175], [6.034585862853031, 43.902617061160015], [6.034932792523814, 43.90277490323837], [6.034941782935292, 43.90306964318226], [6.03599804132629, 43.903623774461416], [6.037328468451337, 43.90204422348619], [6.036499165438114, 43.901685221396434], [6.036004405682311, 43.90152873040138], [6.035396061463018, 43.901272838426216], [6.035128173352909, 43.90107542670106], [6.034696229950267, 43.90086515862363], [6.034213156872428, 43.90065294114554], [6.033721643312226, 43.90023263320591], [6.033356501086609, 43.90014732517207], [6.033384461904534, 43.90002835565958], [6.030871490589209, 43.89871975327183], [6.029013618289708, 43.89830715751907], [6.027887384565446, 43.89969525739723]]], [[[6.156915571214339, 43.939673740206466], [6.154051119067413, 43.9407997551829], [6.154686128545092, 43.94158891046412], [6.155158119775476, 43.94268624175424], [6.155245263120559, 43.94291924118087], [6.155658625113313, 43.9429932431301], [6.1562003733511, 43.94330617028758], [6.15664946642162, 43.94360759707528], [6.157365868426566, 43.943936512393265], [6.15777731281969, 43.94436097719054], [6.158685885039866, 43.9447384566788], [6.159493489977304, 43.945056775776536], [6.160418046838786, 43.94408001445874], [6.159780856765806, 43.943866363477476], [6.159508640983401, 43.94346282923787], [6.159476419278072, 43.942984463154716], [6.159043002724967, 43.942461189445915], [6.158208898982549, 43.94190036284089], [6.157493184870005, 43.94067144939459], [6.156915571214339, 43.939673740206466]]], [[[6.195143905793657, 43.98510671453048], [6.195087939329782, 43.9856357140368], [6.195201538442483, 43.98651695895242], [6.1951321189761, 43.98718614350322], [6.19518669360891, 43.987650360419984], [6.195363094672893, 43.988440851549925], [6.196569884964807, 43.98838144250302], [6.1967591491883, 43.98800955082233], [6.196790693374788, 43.98751599681427], [6.1968368161013, 43.987461797002474], [6.196957010828936, 43.987313674748115], [6.197206820335334, 43.98648039719649], [6.197051930919525, 43.98623137699249], [6.196799932347908, 43.98568148924497], [6.196765630306682, 43.98495235491713], [6.195143905793657, 43.98510671453048]]], [[[5.007753262927349, 44.61909488421177], [5.007106632390619, 44.61990893309898], [5.008345240828382, 44.62018349224289], [5.008895168750488, 44.619395093841696], [5.009069598655, 44.619023585320924], [5.00937522542516, 44.61867380209979], [5.009550594343678, 44.61833009615201], [5.009805794579829, 44.617914667675535], [5.010110425717276, 44.61745855656814], [5.010365155311854, 44.616811353270386], [5.010395305258208, 44.61624536345778], [5.010309425655477, 44.615641401763064], [5.008636894589339, 44.615590106262154], [5.008820269814974, 44.6161858735418], [5.00851573277308, 44.617329610401406], [5.008490125597207, 44.6178708688039], [5.008090778179966, 44.61873719238146], [5.007753262927349, 44.61909488421177]]], [[[6.210751633763043, 44.6644418386697], [6.213103024371236, 44.66368617452198], [6.211757809460494, 44.662330437370244], [6.211352315154612, 44.662152206898945], [6.210935073392411, 44.66202713765653], [6.21042445931834, 44.661909535483474], [6.210224220386862, 44.66184952425777], [6.209712488144148, 44.66162699624839], [6.20951431761902, 44.661352978073744], [6.209510053907167, 44.661232130279174], [6.208092803438242, 44.6606174543892], [6.20640952618236, 44.65989041696529], [6.206175289833468, 44.659808534397406], [6.206132791010869, 44.659725476215606], [6.205964764484333, 44.659658493929264], [6.205872159414848, 44.65955970373331], [6.205536509832915, 44.65943155520948], [6.204980864029213, 44.659252826870734], [6.204661981834415, 44.659071605679074], [6.203366915576065, 44.66068255275171], [6.203937192308981, 44.660645260544754], [6.205036465976306, 44.66082821237451], [6.206165178527668, 44.66131917247864], [6.208113853737628, 44.66220695976871], [6.208711613148828, 44.662699078235214], [6.209670432914445, 44.66321347598189], [6.209872035802656, 44.66376617919327], [6.210751633763043, 44.6644418386697]]], [[[5.841069129981218, 44.53572181077495], [5.841857054808982, 44.535120461049765], [5.840891036949418, 44.534136939081606], [5.838887549895795, 44.53324479379845], [5.83679372947208, 44.53220975427678], [5.8359824824842, 44.53318639697048], [5.840067226004035, 44.53525062369659], [5.841069129981218, 44.53572181077495]]], [[[5.251611685014274, 44.37294580764537], [5.251485296432488, 44.373467072337576], [5.251384295746024, 44.37396872276235], [5.251156924784983, 44.37434407750258], [5.250500061136987, 44.37468205219565], [5.2498149387762, 44.37494501924015], [5.249188703479642, 44.375089870261995], [5.249322676469809, 44.37567778013869], [5.250002176103095, 44.37542370684924], [5.250572753007098, 44.375400519857415], [5.250950631276887, 44.37519467734895], [5.251489022519285, 44.37495293698428], [5.252054933426595, 44.37475380826731], [5.2521417729834, 44.374704878814704], [5.252479163407489, 44.374002449456434], [5.252296444546152, 44.37302249725546], [5.251611685014274, 44.37294580764537]]], [[[5.171168199902626, 44.38096752179062], [5.172880883236459, 44.3811752249612], [5.173371163189167, 44.37993883835901], [5.173381402022186, 44.37957729216968], [5.173223099058983, 44.37917640621901], [5.173063523685126, 44.37883091067705], [5.173078862850853, 44.37824780258721], [5.173091549436698, 44.37785414433664], [5.17302543762118, 44.37750914297844], [5.173130953527514, 44.37702276153259], [5.173518202020399, 44.37664562764502], [5.173977275437069, 44.37568268001538], [5.174035279712569, 44.375207389919396], [5.172611384719265, 44.37541627733403], [5.172524437741957, 44.375948793978154], [5.172382740871938, 44.37652351745855], [5.172064172919797, 44.37705474472371], [5.171825557721355, 44.377964120698344], [5.171490756799086, 44.37865746860486], [5.171300390012826, 44.37988025935072], [5.171168199902626, 44.38096752179062]]], [[[5.113263255620006, 44.34292628821391], [5.115578547198506, 44.34188534442477], [5.11424315052414, 44.34033266130699], [5.112564678872293, 44.339201208222406], [5.111951252847493, 44.33899518862323], [5.11139955489029, 44.33818283698562], [5.109007502296916, 44.33736265820315], [5.108368368299897, 44.33691269507484], [5.106925963096304, 44.3368928987703], [5.106003174226122, 44.336692857792336], [5.10574952447209, 44.33665265877533], [5.104430680987621, 44.335916869103734], [5.103572963817739, 44.336727131908276], [5.106578812029752, 44.33858562790278], [5.107329941529888, 44.33916678470264], [5.107567466368412, 44.33953951673553], [5.10790830734557, 44.34003199668375], [5.108556067933393, 44.34016127076981], [5.109532576206893, 44.34070174740563], [5.109625302362653, 44.34110144986237], [5.111011212797722, 44.34187627242806], [5.111568185661511, 44.3423049981494], [5.112167038427432, 44.3424296644817], [5.112825524063508, 44.3426110841007], [5.113263255620006, 44.34292628821391]]], [[[5.067831072622225, 44.3160959342252], [5.070344059998873, 44.31442156012426], [5.070015941999634, 44.314194716418804], [5.068709175282279, 44.31361587671703], [5.068777369286374, 44.31343973188812], [5.068548161648889, 44.31326523282859], [5.067731846508299, 44.312579127929304], [5.066601704936704, 44.31136042767416], [5.065382347754114, 44.31064503051229], [5.064886153869711, 44.30944546724862], [5.061484896612929, 44.307234527929495], [5.059331700991438, 44.3060511065912], [5.05706866924399, 44.30774548537815], [5.060371964428055, 44.309947343919845], [5.062869858453554, 44.31153780713259], [5.064040158605756, 44.312364332885245], [5.064667409813768, 44.31327783382961], [5.06476539225849, 44.31392909081574], [5.064836029018413, 44.314282803675404], [5.067831072622225, 44.3160959342252]]], [[[4.984526157154582, 44.286461973462764], [4.986040855640773, 44.2844720725483], [4.984663893292323, 44.28388846880603], [4.983664468798499, 44.28356675483761], [4.982433067935098, 44.28359654407451], [4.980804402172898, 44.28298825623922], [4.980221508666129, 44.282664418415145], [4.979684722027379, 44.2825766961576], [4.97866266979704, 44.282282584694414], [4.977721846941372, 44.28228199798494], [4.976209924978073, 44.28194817663405], [4.975170170562912, 44.28125500491738], [4.973853236888942, 44.28049438789492], [4.972950178938925, 44.28025979945456], [4.971836397748542, 44.28164321145842], [4.972302013028449, 44.28188835019117], [4.973808494120728, 44.282539544380136], [4.976065893597395, 44.28363870696498], [4.978292604502669, 44.284722034372265], [4.978474447086145, 44.2849681742167], [4.981433725357716, 44.2856366123097], [4.984526157154582, 44.286461973462764]]], [[[4.91588943510856, 44.211980701554474], [4.919121104676019, 44.20944095623606], [4.91782520007276, 44.2090870698574], [4.917265335801108, 44.20906533965949], [4.916863957485318, 44.2087893505205], [4.916624011016038, 44.20867849898615], [4.916466955475128, 44.2084316942382], [4.916082174189892, 44.20834173908083], [4.915159398394788, 44.20746633459301], [4.914384948290356, 44.20735644015716], [4.913334225811278, 44.20669377205252], [4.912064040486246, 44.20530220865854], [4.910489495082756, 44.204873245532625], [4.909456778403319, 44.20407029846575], [4.908477366850409, 44.20372633032983], [4.907598868042738, 44.203642142349025], [4.907353478653067, 44.20269830325958], [4.903788349562426, 44.20378323559256], [4.905877227401128, 44.205551796476904], [4.907243672660227, 44.20710428789758], [4.909992274706736, 44.20942913750944], [4.911682547034496, 44.20995930400439], [4.91351085131234, 44.21026575247416], [4.915128553182849, 44.210926694890105], [4.91588943510856, 44.211980701554474]]], [[[4.884854312363808, 44.18784829814103], [4.887520978499949, 44.18693454382766], [4.886664864900012, 44.18554470632559], [4.886417523021587, 44.184727595780735], [4.886114475182197, 44.1841113170013], [4.885874866695315, 44.183277494889154], [4.885459398422874, 44.18160355746463], [4.885064359284812, 44.18128071052923], [4.884062841974101, 44.18115260830846], [4.882982746029598, 44.18071756640726], [4.882382747069905, 44.18052525212413], [4.881442278208163, 44.18031414332772], [4.878819705463648, 44.179781003609584], [4.878224775999546, 44.1795574541439], [4.877511384678037, 44.17899439835117], [4.876718570945155, 44.178374928934566], [4.875430778976839, 44.17944184836562], [4.876905397320351, 44.180371709015574], [4.877365584080714, 44.18052412310854], [4.877927301570046, 44.18113440315617], [4.879028369113234, 44.18158648333872], [4.881155576630927, 44.182623436384915], [4.883174450884294, 44.18359005501699], [4.884166245347146, 44.18440000348481], [4.884302239057813, 44.18472307206293], [4.884324866915533, 44.18558475255286], [4.883677914210494, 44.185870738749735], [4.883271282560397, 44.186369582648986], [4.883287568480709, 44.18691099623511], [4.883998961249174, 44.18715656449435], [4.884713617433359, 44.187384574943124], [4.884854312363808, 44.18784829814103]]], [[[4.798016480685193, 44.15847993060706], [4.798973357895437, 44.157578262464014], [4.798600430785648, 44.157445591877305], [4.797805339976531, 44.15646737189972], [4.797185217497272, 44.15560741605252], [4.796125352615027, 44.155077171396194], [4.795051473783634, 44.154542957085816], [4.794359184387602, 44.154066298668305], [4.792524249985593, 44.15336194456183], [4.792266158481079, 44.15326372081709], [4.791544612254944, 44.1528073123765], [4.790684424876284, 44.15228556558878], [4.790308470632557, 44.15189717024767], [4.790154907610823, 44.15152779691112], [4.790000172553815, 44.151140027369465], [4.789047380503925, 44.15127794585066], [4.789062910152628, 44.151356239681995], [4.788945694010198, 44.15154528557023], [4.789110578400556, 44.15212069738655], [4.789432673998051, 44.1530177666864], [4.791027230671644, 44.15433787328275], [4.792042964434846, 44.154623777190714], [4.793126247864365, 44.15529464229543], [4.794471361373711, 44.15581918884347], [4.794882501415511, 44.156063336875995], [4.7952239260894, 44.15637895866008], [4.795521770387412, 44.15703292561449], [4.795898454440112, 44.15750795069752], [4.796540697736685, 44.15806989048963], [4.798016480685193, 44.15847993060706]]], [[[6.141819707273885, 44.33113939849124], [6.14140022133382, 44.33011155756437], [6.140645527686463, 44.33024218300473], [6.139461691019654, 44.33007455190876], [6.13873653231303, 44.32996926400435], [6.137560604219339, 44.3302754002726], [6.136581430966711, 44.33026859600922], [6.136490348315421, 44.33015493318543], [6.136378595298129, 44.33003078033816], [6.135664473545344, 44.3295328128956], [6.135306951499628, 44.3293527587351], [6.134824458873975, 44.32944635181839], [6.1344550972625, 44.32984103388789], [6.13436254196512, 44.33027566336388], [6.134997640551818, 44.330495453434835], [6.135700341762745, 44.33080705991947], [6.136079741557775, 44.33094068389624], [6.136418046313084, 44.33112836049283], [6.136505547046394, 44.33122151682549], [6.13740965083696, 44.33137959411222], [6.137748616969821, 44.331347415921655], [6.138427949521808, 44.33132398461629], [6.140066542723086, 44.33149539628197], [6.140602453694066, 44.33115548283548], [6.141229797346863, 44.33106371424845], [6.141819707273885, 44.33113939849124]]], [[[6.032432051770989, 44.29819484616152], [6.034844361886733, 44.29760980794292], [6.034261502225266, 44.29651899397012], [6.033938927911144, 44.296241338710935], [6.033519601772805, 44.2961593263638], [6.033083983764322, 44.29620028245992], [6.031741144274336, 44.295030209522636], [6.030572239873635, 44.294842345090025], [6.030142494717608, 44.29478690494204], [6.029598434514189, 44.294472996639165], [6.028845820650091, 44.29385570725486], [6.028582058596775, 44.293173819130025], [6.028638131340025, 44.29254234366721], [6.028945712488483, 44.29203354037469], [6.029165246770521, 44.291667616178], [6.029289885319425, 44.291339872498696], [6.026679146358143, 44.29127499282676], [6.027051803160273, 44.29197350007807], [6.027159978429366, 44.29286359510794], [6.027664004113384, 44.293925510313855], [6.027807796430848, 44.294200471981625], [6.028230130398107, 44.2951988426453], [6.028464623778635, 44.29552037464221], [6.028751156149639, 44.29580426920966], [6.029198699604058, 44.29605010879785], [6.029858807784054, 44.296282245498666], [6.031137930565264, 44.29688163196112], [6.031901371313435, 44.297442976570615], [6.032432051770989, 44.29819484616152]]], [[[5.997472625686832, 44.267796570004606], [5.998677861378939, 44.26666188216892], [5.997861181370334, 44.26626515715459], [5.997048625957441, 44.266025678668235], [5.996467752684595, 44.26569974309409], [5.995814883777998, 44.26538933050801], [5.994939260856768, 44.265396777134676], [5.994339966323433, 44.264901706483315], [5.993337927721398, 44.264585474892904], [5.993047281977916, 44.264606855376805], [5.99061330117509, 44.26435014456533], [5.989724048341392, 44.26414669567414], [5.988160410563414, 44.26418416111808], [5.986702472358878, 44.263678360765994], [5.985869110850821, 44.26370618406259], [5.985235056117536, 44.26344684187913], [5.984184292678983, 44.262691450901585], [5.982825308296535, 44.26171376333285], [5.980900862233391, 44.26373493434499], [5.981659164049431, 44.26381619391074], [5.982363320899187, 44.26416869611942], [5.983159982109663, 44.26435197581267], [5.98382857541201, 44.264718771285004], [5.984663390908842, 44.26499566269109], [5.98509102034381, 44.265151000343785], [5.985574099835556, 44.26536877107368], [5.986246669631463, 44.26579662709831], [5.987169279304816, 44.266421610588345], [5.988176423647602, 44.26688759085747], [5.989027313522454, 44.26698963474667], [5.989739163434505, 44.26718764673303], [5.990772925110887, 44.2675901685767], [5.991478466527795, 44.26769052876452], [5.992438286808222, 44.267651912251715], [5.99352608564322, 44.26755681862523], [5.99410559195894, 44.267544373736136], [5.994971938582816, 44.26764362944292], [5.996023710589667, 44.26764285240376], [5.996811100331593, 44.26767520394649], [5.997472625686832, 44.267796570004606]]], [[[5.965058444634831, 44.25770598059152], [5.965671382199504, 44.257003945059246], [5.965363840156134, 44.256808671082624], [5.964858003660555, 44.25635252296222], [5.963945881658979, 44.25513929037556], [5.963393357217806, 44.25480787863596], [5.962604830089927, 44.254274446038636], [5.959056966918035, 44.2538383249861], [5.956524249533873, 44.25349766788651], [5.955456598795826, 44.25561888242182], [5.956803721465516, 44.25601618080751], [5.958767279067972, 44.256629550073825], [5.960988955472059, 44.25683455828109], [5.961991795960071, 44.25716853497345], [5.963581366919827, 44.257418915048945], [5.964545163016872, 44.25762843005447], [5.965058444634831, 44.25770598059152]]], [[[5.931176192306584, 44.25147383311632], [5.933877630518055, 44.250285797858076], [5.932397206807766, 44.24917339160886], [5.93013145840518, 44.2490516024939], [5.928964853446105, 44.24957958917492], [5.928521337457383, 44.249873957474236], [5.926731655144876, 44.24998737184722], [5.925136894165784, 44.24919239622121], [5.924699330911785, 44.2485597476415], [5.924412691463814, 44.24826022300396], [5.924142457387855, 44.24745303991198], [5.923346790096704, 44.246920244394815], [5.922360394553458, 44.24882148652098], [5.923539976405128, 44.24953293837252], [5.924471436554577, 44.25033340576028], [5.924993483834709, 44.250698528191684], [5.926491544221729, 44.251350570937916], [5.926988283830359, 44.25152668684899], [5.927306508112163, 44.25153580205079], [5.927720770944583, 44.25167296799068], [5.928373447778582, 44.251415447132246], [5.929255023671509, 44.25093181124761], [5.930292881972586, 44.25080151203883], [5.931054394172839, 44.250916365848795], [5.931123502384351, 44.25123760210274], [5.931176192306584, 44.25147383311632]]], [[[6.233830441789888, 44.114902346065435], [6.234376512839461, 44.11602396719559], [6.235003818522504, 44.11726729028086], [6.235209450574678, 44.11826991620788], [6.235442851051071, 44.119146941808424], [6.235248841979106, 44.12006384459486], [6.237603259814008, 44.12021081547529], [6.237950451816641, 44.11960158591607], [6.238089620376856, 44.11911129048715], [6.237958660098371, 44.11853228619583], [6.237916199963297, 44.11804849011689], [6.237761338906329, 44.11712275084764], [6.237473241428312, 44.11664118571083], [6.237248839135138, 44.115895009193906], [6.237382592927728, 44.115326209789], [6.237307875639084, 44.11490259350693], [6.237025717536485, 44.11437490781881], [6.236956338126462, 44.11323624681162], [6.236329011732788, 44.1124017746978], [6.235857643501193, 44.11196752433215], [6.235334604012053, 44.111637205860376], [6.235031983444615, 44.111483301260705], [6.234846367701735, 44.11148341475042], [6.234693183984603, 44.11142854678742], [6.234316197530379, 44.11109870988952], [6.233579828303561, 44.11048080835328], [6.232409192096459, 44.11129816563355], [6.232657739127803, 44.11142302156488], [6.233113670859568, 44.11179815552732], [6.233087327382061, 44.11207309724299], [6.232903538789479, 44.11244499945486], [6.233256794185603, 44.11270963608477], [6.233323762199745, 44.11289317129746], [6.233424382296112, 44.1135002717238], [6.233909951311594, 44.1139419944975], [6.233830441789888, 44.114902346065435]]], [[[6.089426963902314, 44.02824950630601], [6.088760316987685, 44.026605427908414], [6.088345404604622, 44.02679021756031], [6.088009892825141, 44.02673292718299], [6.087485516952269, 44.02691164928984], [6.087009482277367, 44.02699690097288], [6.086450955010748, 44.0268598932836], [6.085690658602275, 44.02714879717191], [6.085347148209449, 44.02714854190087], [6.084629503763616, 44.027426399465426], [6.083111809104824, 44.0271846877189], [6.082193351626238, 44.027344522110425], [6.081217181247271, 44.02737776799069], [6.08041656029987, 44.02764338641345], [6.079499097336782, 44.02785104867017], [6.0790810068978, 44.028168485765576], [6.078644353283705, 44.02859794341], [6.078693753387228, 44.02872996383177], [6.078077806081961, 44.02919142489456], [6.077955392014964, 44.029528296761754], [6.078295336447717, 44.02977211993882], [6.078353635254324, 44.029966835420915], [6.077840212341447, 44.030312344145926], [6.07683666648024, 44.03094353780977], [6.076584479504214, 44.03125383659625], [6.076115512569381, 44.03158469503875], [6.077981881293075, 44.03259597597833], [6.078428385930175, 44.032062604501334], [6.078940834723713, 44.031855702491754], [6.079569356299041, 44.03115931503519], [6.080009650937739, 44.03013285862439], [6.08055111110342, 44.02952408270877], [6.081177782536338, 44.02903918949524], [6.081602155155543, 44.02889413572344], [6.082503750497804, 44.02885659628231], [6.082742578712415, 44.028913607517104], [6.083060000169534, 44.02908954846566], [6.084196912371768, 44.02917865225377], [6.086563887351045, 44.02856673664208], [6.088220431173768, 44.02832897571358], [6.089426963902314, 44.02824950630601]]], [[[6.254308008211797, 44.01078536559809], [6.254687506031502, 44.01066677680206], [6.256554277426392, 44.0106811641567], [6.257418375541445, 44.01067918349087], [6.257645583619952, 44.0106360219835], [6.25796968101316, 44.01053399069489], [6.257656137533276, 44.010137201566025], [6.256363598276018, 44.01036738532447], [6.255290432973165, 44.01035356880514], [6.254344163690368, 44.010335173733665], [6.253730140469952, 44.01072164161775], [6.253400510262471, 44.010880658430736], [6.253383215974422, 44.011136347676484], [6.253237533215952, 44.011424310395746], [6.253688599447388, 44.011552351233874], [6.25382290309599, 44.01124585223868], [6.254069394711882, 44.01095571733474], [6.254308008211797, 44.01078536559809]]], [[[6.212424707830607, 44.00810148345804], [6.215156847331613, 44.00726495563229], [6.214650682423215, 44.006595158315456], [6.21387778215245, 44.00556762928312], [6.213049876447447, 44.00442291159054], [6.212453478401812, 44.00396143203605], [6.212145733464745, 44.00382235707721], [6.21207318002079, 44.003554224963985], [6.211916143990515, 44.00333500941102], [6.211695675698744, 44.003055591543124], [6.211670443769633, 44.00255419811984], [6.211399131596636, 44.00202242802511], [6.211396259755335, 44.001715936746024], [6.211185028523269, 44.001534283464814], [6.210911783019323, 44.001635338146805], [6.210410289400842, 44.001437924536454], [6.208312152846092, 44.003202120206254], [6.208233192019258, 44.00331924887831], [6.208704218389381, 44.00356479816826], [6.209124157736297, 44.003926923704164], [6.209901716320518, 44.00420418474157], [6.210176171050581, 44.00436491655481], [6.210371107187524, 44.004757998903465], [6.211031387265976, 44.00544600680959], [6.211201113522782, 44.005669484684965], [6.211186827704411, 44.00592574503614], [6.211569446498074, 44.006007208836216], [6.211796950214612, 44.00611222879409], [6.211956645351071, 44.00627858374523], [6.212120028806979, 44.00655326683767], [6.212459910852838, 44.00755879611889], [6.212415928218576, 44.00784086425655], [6.212424707830607, 44.00810148345804]]], [[[5.948188548560073, 43.88723480898143], [5.949427180300357, 43.885171402912235], [5.948895666653406, 43.88504921636051], [5.947788013210255, 43.884229377664944], [5.945589657803052, 43.88374298870973], [5.943028929426405, 43.88319574389348], [5.942274823463875, 43.8833316079052], [5.941441863746027, 43.88262778394426], [5.938807466874152, 43.881870178781206], [5.937721534467431, 43.88164394581092], [5.936621306805625, 43.88131910620183], [5.934807120354799, 43.88129763848151], [5.933443492326992, 43.88113883980492], [5.932687663952357, 43.88103566050592], [5.932148033163497, 43.882747768934955], [5.933146037359654, 43.88284515864244], [5.933851992102694, 43.882886995957584], [5.934765930721348, 43.883365411249855], [5.935934983583611, 43.88360058573374], [5.937855083035465, 43.8840195418066], [5.940542609320933, 43.88459561073629], [5.941013497576098, 43.88547997803508], [5.942478825684202, 43.88583568644858], [5.943221643910291, 43.885889284032814], [5.945891510489124, 43.88675276793796], [5.946826951035905, 43.88736457537755], [5.948188548560073, 43.88723480898143]]], [[[6.141514253354823, 44.04032288550394], [6.142744456597423, 44.03933928659362], [6.142134849531443, 44.03905627967067], [6.141426010277994, 44.03866607768819], [6.14078700990243, 44.03783079455131], [6.139561428059688, 44.03705472809311], [6.138275841873439, 44.03652696068829], [6.136679153682186, 44.035705725331425], [6.134511786157935, 44.034951405884456], [6.132925563656632, 44.03726139207019], [6.137325841964787, 44.039058252642725], [6.141181389532436, 44.040506038143555], [6.141514253354823, 44.04032288550394]]], [[[5.761595655347162, 44.48004554257788], [5.762679783304266, 44.48001723251646], [5.762495922882259, 44.47963150233686], [5.762555362408689, 44.47959229781722], [5.762670181236048, 44.479320355146506], [5.763135934919759, 44.478846560681355], [5.763458344069584, 44.47855706825595], [5.76379730313564, 44.478031898991944], [5.764087424715675, 44.477339493054544], [5.764190103230244, 44.47680510337661], [5.764300513089323, 44.47557329572096], [5.761062902415278, 44.475198538328186], [5.760776379537983, 44.47658523101971], [5.760761776847845, 44.47761485055703], [5.760835328307552, 44.478315264289904], [5.761081569400047, 44.47880556277113], [5.761246326348566, 44.47935373551465], [5.761487867673843, 44.47976671619083], [5.761595655347162, 44.48004554257788]]], [[[6.093746360202476, 44.65981641313634], [6.094036195742885, 44.659715195864564], [6.094275268101247, 44.659579735399944], [6.094760072291056, 44.65940821014219], [6.095795582274618, 44.65894944046641], [6.096426133904054, 44.658638712489726], [6.097013807007973, 44.658469197270165], [6.097684298210289, 44.658349428377996], [6.098204267452613, 44.65818222030494], [6.098659790128048, 44.65809469872817], [6.099337245933387, 44.65790549746379], [6.099690542349435, 44.657854674835825], [6.100301004091222, 44.657822730340925], [6.100488168799589, 44.65783846835454], [6.10083493733957, 44.658036927820746], [6.102047435839255, 44.65807847090619], [6.102605756066517, 44.657616588741355], [6.10323655668809, 44.656964042079004], [6.103768086667522, 44.655988340642715], [6.102587586494987, 44.65532583400984], [6.101641665775558, 44.65607771358981], [6.100682114987952, 44.656453689672915], [6.099168668126928, 44.65643349173464], [6.096228810332728, 44.656650191385054], [6.095240042935774, 44.65682233267645], [6.09333750125796, 44.657938885788425], [6.092440790905186, 44.658385977068995], [6.093746360202476, 44.65981641313634]]], [[[6.170175557557262, 44.649417906303086], [6.17066605335516, 44.64865359991314], [6.170402110171905, 44.64853549297336], [6.17018042613631, 44.648355028855164], [6.169756684622174, 44.64805430001895], [6.168839982534148, 44.64791464796708], [6.168011578830578, 44.64747856280274], [6.166644898313856, 44.64719266431481], [6.164507467428655, 44.6470304269187], [6.16284199128601, 44.647165843596596], [6.162816339125539, 44.64906244206941], [6.164156410729, 44.64915697645829], [6.165746465921234, 44.649278772755984], [6.168759437947873, 44.64934546537241], [6.170175557557262, 44.649417906303086]]], [[[6.249742439798411, 44.673368779361965], [6.250212941340291, 44.67366341184984], [6.250790041166038, 44.67437354970233], [6.251652680769964, 44.67517316549558], [6.253966251657852, 44.67408897020368], [6.254263506441934, 44.67345843865304], [6.253746367010645, 44.67260780214847], [6.253121641508005, 44.67199347406017], [6.252239678430229, 44.67169411828779], [6.25128068477302, 44.67118023582218], [6.249988185044657, 44.67077783822157], [6.249394086548334, 44.670156867537735], [6.247146586663432, 44.66918503935891], [6.246162089303102, 44.668860220743895], [6.245632155847217, 44.66860227980925], [6.244902068373436, 44.669923454149846], [6.24548771550822, 44.670201561583816], [6.245692291204499, 44.67046552387701], [6.246707629902137, 44.67123207296999], [6.247536193138187, 44.67176723385564], [6.248430241170583, 44.67235126327201], [6.249269659204636, 44.67293030899379], [6.249753841458698, 44.67303210608306], [6.249710633683084, 44.673302102910945], [6.249742439798411, 44.673368779361965]]], [[[6.262978850659062, 44.691616589983326], [6.262862436797032, 44.69241921793874], [6.262581818054627, 44.69317649837511], [6.262546580480051, 44.69389181760383], [6.263089108392442, 44.69496155871597], [6.263462804814469, 44.69555989250694], [6.263571563284024, 44.69650256427746], [6.265451727682902, 44.69642166205108], [6.265788854602711, 44.696249107329606], [6.265841200938053, 44.69613791561336], [6.265922562388069, 44.695638211330696], [6.265805267814181, 44.695182959470344], [6.26562430604936, 44.694760423947194], [6.26520608134572, 44.694163685707025], [6.264732514526946, 44.693330899300804], [6.264629169834054, 44.69301906934497], [6.264464668994655, 44.692222307867425], [6.264564324772678, 44.69176208457733], [6.262978850659062, 44.691616589983326]]], [[[6.311508920928326, 44.67882507168177], [6.311333754383395, 44.67805089004528], [6.310413170595845, 44.677978950817874], [6.3101198446308, 44.677945254986675], [6.309592376467196, 44.678329635965426], [6.308992184509512, 44.67850905729672], [6.30857390939122, 44.67851861447085], [6.308203152071272, 44.67843235230669], [6.307849242477216, 44.67836485539062], [6.3070393275757, 44.678048101706], [6.305854244049277, 44.67780160924054], [6.304849741033259, 44.67777693361878], [6.303966068973383, 44.67817135833546], [6.303033219230526, 44.6782547930851], [6.304190642551745, 44.6810693935035], [6.304527166970349, 44.68089120009117], [6.305499638413164, 44.68043544777825], [6.306324875243803, 44.680256234892624], [6.306779510822157, 44.68021216247477], [6.307135802812336, 44.680094138230785], [6.307903510204342, 44.68008858852565], [6.308569085867683, 44.67962727195727], [6.309231217437993, 44.67922696586178], [6.310471571104109, 44.67899399134971], [6.311508920928326, 44.67882507168177]]], [[[6.338624973071802, 44.68591492506375], [6.339158898576303, 44.686111404916], [6.339706728989434, 44.68628523424821], [6.339706728989434, 44.68628523424821], [6.340663907417958, 44.68681229399171], [6.341984481304575, 44.687049344688084], [6.342727991367009, 44.687246486787295], [6.343907098633281, 44.687458216497205], [6.344501949096324, 44.687746560317386], [6.345381229077843, 44.68615349579679], [6.344002497851181, 44.68597119163666], [6.341596646055327, 44.68574874021841], [6.341233707740358, 44.68523052172632], [6.33973115587108, 44.68488936841281], [6.338866620325165, 44.68516990312028], [6.338624973071802, 44.68591492506375]]], [[[6.25169060162274, 44.74112574025563], [6.25067742618232, 44.74113128351159], [6.250584337780646, 44.74163277979512], [6.250345819336364, 44.74199828673691], [6.250456969880584, 44.74292152722928], [6.250646093673047, 44.74340469826572], [6.251151881799472, 44.74402884731269], [6.251395674381105, 44.74434954765234], [6.251621789201872, 44.744917203469576], [6.252076381621952, 44.74547535868402], [6.254009544910724, 44.74535131008882], [6.25384510835523, 44.74472195970989], [6.253534171761725, 44.74394143921234], [6.253365774190201, 44.74331084575343], [6.253176075702937, 44.74318058457855], [6.252924149359329, 44.742826964437825], [6.252943755044454, 44.74260761713662], [6.252924880131679, 44.74206027756567], [6.252543585618973, 44.741661434983605], [6.252018171271214, 44.741367349824095], [6.25169060162274, 44.74112574025563]]], [[[5.85962369073278, 44.234780941271666], [5.859221199945196, 44.23499032889315], [5.85870282454256, 44.235994627717616], [5.858999703668507, 44.23723821736522], [5.859854632238044, 44.23848318062933], [5.860208871911333, 44.23922697530623], [5.860276698498817, 44.23994404262296], [5.860255803246654, 44.24071929841224], [5.859975825984947, 44.24153610450912], [5.862479237719905, 44.24169326898356], [5.862838361002032, 44.24140504435653], [5.862815798852619, 44.240797171075464], [5.862590437836689, 44.24014604720512], [5.862362970375471, 44.23995420811904], [5.862314668030773, 44.23967359715418], [5.86213786510965, 44.23943032848603], [5.861936200920029, 44.23928191808746], [5.862079172296852, 44.238613377995044], [5.862132636058611, 44.23811370755476], [5.862091620247751, 44.23745663643739], [5.861950124576301, 44.23716243437644], [5.861912902655527, 44.236566101185154], [5.862066454072122, 44.23619045480498], [5.862691685230656, 44.23572766281729], [5.85962369073278, 44.234780941271666]]]], 'type': 'MultiPolygon'}}}, {'harmonize': {'target_sensor': 'Sentinel-2'}}]}\n"
     ]
    }
   ],
   "source": [
    "print(order_details)"
   ]
  },
  {
   "cell_type": "markdown",
   "id": "75a38a47-ad84-435d-aedb-047b180e6fba",
   "metadata": {},
   "source": [
    "## AOI"
   ]
  },
  {
   "cell_type": "code",
   "execution_count": 6,
   "id": "b65cfaab-4ba5-434b-b40f-ac4433531bad",
   "metadata": {},
   "outputs": [],
   "source": [
    "# AOI defined as GeoJSON Multipolygon \n",
    "\n",
    "AOI = {\n",
    "        \"type\": \"MultiPolygon\",\n",
    "        \"coordinates\": [\n",
    "          [\n",
    "            [\n",
    "              [\n",
    "                4.91588943510856,\n",
    "                44.211980701554474\n",
    "              ],\n",
    "              [\n",
    "                4.919121104676019,\n",
    "                44.20944095623606\n",
    "              ],\n",
    "              [\n",
    "                4.91782520007276,\n",
    "                44.2090870698574\n",
    "              ],\n",
    "              [\n",
    "                4.917265335801108,\n",
    "                44.20906533965949\n",
    "              ],\n",
    "              [\n",
    "                4.916863957485318,\n",
    "                44.2087893505205\n",
    "              ],\n",
    "              [\n",
    "                4.916624011016038,\n",
    "                44.20867849898615\n",
    "              ],\n",
    "              [\n",
    "                4.916466955475128,\n",
    "                44.2084316942382\n",
    "              ],\n",
    "              [\n",
    "                4.916082174189892,\n",
    "                44.20834173908083\n",
    "              ],\n",
    "              [\n",
    "                4.915159398394788,\n",
    "                44.20746633459301\n",
    "              ],\n",
    "              [\n",
    "                4.914384948290356,\n",
    "                44.20735644015716\n",
    "              ],\n",
    "              [\n",
    "                4.913334225811278,\n",
    "                44.20669377205252\n",
    "              ],\n",
    "              [\n",
    "                4.912064040486246,\n",
    "                44.20530220865854\n",
    "              ],\n",
    "              [\n",
    "                4.910489495082756,\n",
    "                44.204873245532625\n",
    "              ],\n",
    "              [\n",
    "                4.909456778403319,\n",
    "                44.20407029846575\n",
    "              ],\n",
    "              [\n",
    "                4.908477366850409,\n",
    "                44.20372633032983\n",
    "              ],\n",
    "              [\n",
    "                4.907598868042738,\n",
    "                44.203642142349025\n",
    "              ],\n",
    "              [\n",
    "                4.907353478653067,\n",
    "                44.20269830325958\n",
    "              ],\n",
    "              [\n",
    "                4.903788349562426,\n",
    "                44.20378323559256\n",
    "              ],\n",
    "              [\n",
    "                4.905877227401128,\n",
    "                44.205551796476904\n",
    "              ],\n",
    "              [\n",
    "                4.907243672660227,\n",
    "                44.20710428789758\n",
    "              ],\n",
    "              [\n",
    "                4.909992274706736,\n",
    "                44.20942913750944\n",
    "              ],\n",
    "              [\n",
    "                4.911682547034496,\n",
    "                44.20995930400439\n",
    "              ],\n",
    "              [\n",
    "                4.91351085131234,\n",
    "                44.21026575247416\n",
    "              ],\n",
    "              [\n",
    "                4.915128553182849,\n",
    "                44.210926694890105\n",
    "              ],\n",
    "              [\n",
    "                4.91588943510856,\n",
    "                44.211980701554474\n",
    "              ]\n",
    "            ]\n",
    "          ]\n",
    "        ]\n",
    "      }"
   ]
  }
 ],
 "metadata": {
  "kernelspec": {
   "display_name": "Python 3 (ipykernel)",
   "language": "python",
   "name": "python3"
  },
  "language_info": {
   "codemirror_mode": {
    "name": "ipython",
    "version": 3
   },
   "file_extension": ".py",
   "mimetype": "text/x-python",
   "name": "python",
   "nbconvert_exporter": "python",
   "pygments_lexer": "ipython3",
   "version": "3.12.1"
  }
 },
 "nbformat": 4,
 "nbformat_minor": 5
}
